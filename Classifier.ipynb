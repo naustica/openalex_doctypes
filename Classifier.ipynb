{
 "cells": [
  {
   "cell_type": "code",
   "execution_count": 1,
   "id": "ed4f01da-bee7-4c43-9d95-fcced99153f3",
   "metadata": {},
   "outputs": [],
   "source": [
    "import matplotlib.pyplot as plt\n",
    "import seaborn as sns\n",
    "import os\n",
    "import pandas as pd\n",
    "import nltk\n",
    "import numpy as np\n",
    "import re\n",
    "from sklearn.model_selection import GridSearchCV, cross_val_score, KFold, train_test_split\n",
    "from sklearn.linear_model import LogisticRegression\n",
    "from sklearn.metrics import classification_report\n",
    "from sklearn.dummy import DummyClassifier"
   ]
  },
  {
   "cell_type": "code",
   "execution_count": 2,
   "id": "bac89d5b-35a5-44b2-bdc0-ac88721c7267",
   "metadata": {},
   "outputs": [],
   "source": [
    "sns.set_style('whitegrid')\n",
    "plt.rc('font', family='Arial')\n",
    "plt.rc('font', size=8) \n",
    "plt.rc('axes', titlesize=8) \n",
    "plt.rc('axes', labelsize=8) \n",
    "plt.rc('xtick', labelsize=8) \n",
    "plt.rc('ytick', labelsize=8) \n",
    "plt.rc('legend', fontsize=8)\n",
    "%config InlineBackend.figure_format = 'retina'\n",
    "pd.options.display.float_format = '{:.0f}'.format"
   ]
  },
  {
   "cell_type": "code",
   "execution_count": 3,
   "id": "8324fe1d-eb3b-4ea0-ad00-194522851d6b",
   "metadata": {},
   "outputs": [],
   "source": [
    "df = pd.read_csv('datasets/oal_dt_dataset.csv', \n",
    "                 names=['doi', 'pm_grouptype', 'type', 'abstract', 'title', 'page', 'author_count',\n",
    "                          'has_license', 'is_referenced_by_count',\n",
    "                          'references_count', 'has_funder'],\n",
    "                 dtype={'doi': str,\n",
    "                        'pm_grouptype': str,\n",
    "                        'type': str,\n",
    "                        'abstract': str,\n",
    "                        'title': str,\n",
    "                        'page': str,\n",
    "                        'author_count': int,\n",
    "                        'has_license': int,\n",
    "                        'is_referenced_by_count': int,\n",
    "                        'references_count': int,\n",
    "                        'has_funder': int\n",
    "                 }, sep=',', quotechar='\"', header=0, nrows=1000000)"
   ]
  },
  {
   "cell_type": "code",
   "execution_count": 4,
   "id": "bfda416c-869b-4b67-a03e-a95c93c46a3f",
   "metadata": {},
   "outputs": [
    {
     "data": {
      "text/html": [
       "<div>\n",
       "<style scoped>\n",
       "    .dataframe tbody tr th:only-of-type {\n",
       "        vertical-align: middle;\n",
       "    }\n",
       "\n",
       "    .dataframe tbody tr th {\n",
       "        vertical-align: top;\n",
       "    }\n",
       "\n",
       "    .dataframe thead th {\n",
       "        text-align: right;\n",
       "    }\n",
       "</style>\n",
       "<table border=\"1\" class=\"dataframe\">\n",
       "  <thead>\n",
       "    <tr style=\"text-align: right;\">\n",
       "      <th></th>\n",
       "      <th>doi</th>\n",
       "      <th>pm_grouptype</th>\n",
       "      <th>type</th>\n",
       "      <th>abstract</th>\n",
       "      <th>title</th>\n",
       "      <th>page</th>\n",
       "      <th>author_count</th>\n",
       "      <th>has_license</th>\n",
       "      <th>is_referenced_by_count</th>\n",
       "      <th>references_count</th>\n",
       "      <th>has_funder</th>\n",
       "    </tr>\n",
       "  </thead>\n",
       "  <tbody>\n",
       "    <tr>\n",
       "      <th>0</th>\n",
       "      <td>10.1001/2012.jama.10425</td>\n",
       "      <td>Journal_Article</td>\n",
       "      <td>research_discourse</td>\n",
       "      <td>NaN</td>\n",
       "      <td>A Path to Wholeness</td>\n",
       "      <td>985</td>\n",
       "      <td>4</td>\n",
       "      <td>0</td>\n",
       "      <td>1</td>\n",
       "      <td>0</td>\n",
       "      <td>0</td>\n",
       "    </tr>\n",
       "    <tr>\n",
       "      <th>1</th>\n",
       "      <td>10.1001/2012.jama.10452</td>\n",
       "      <td>Journal_Article</td>\n",
       "      <td>research_discourse</td>\n",
       "      <td>NaN</td>\n",
       "      <td>Worries</td>\n",
       "      <td>873</td>\n",
       "      <td>1</td>\n",
       "      <td>0</td>\n",
       "      <td>1</td>\n",
       "      <td>0</td>\n",
       "      <td>0</td>\n",
       "    </tr>\n",
       "    <tr>\n",
       "      <th>2</th>\n",
       "      <td>10.1001/2012.jama.10500</td>\n",
       "      <td>News</td>\n",
       "      <td>editorial_discourse</td>\n",
       "      <td>NaN</td>\n",
       "      <td>Critics of US House Proposal to Ax AHRQ Say Id...</td>\n",
       "      <td>849</td>\n",
       "      <td>1</td>\n",
       "      <td>0</td>\n",
       "      <td>0</td>\n",
       "      <td>0</td>\n",
       "      <td>0</td>\n",
       "    </tr>\n",
       "    <tr>\n",
       "      <th>3</th>\n",
       "      <td>10.1001/2012.jama.10931</td>\n",
       "      <td>Editorial</td>\n",
       "      <td>editorial_discourse</td>\n",
       "      <td>NaN</td>\n",
       "      <td>Atherogenic Vascular Stiffness and Hypertension</td>\n",
       "      <td>919</td>\n",
       "      <td>1</td>\n",
       "      <td>0</td>\n",
       "      <td>11</td>\n",
       "      <td>0</td>\n",
       "      <td>0</td>\n",
       "    </tr>\n",
       "    <tr>\n",
       "      <th>4</th>\n",
       "      <td>10.1001/2012.jama.10939</td>\n",
       "      <td>News</td>\n",
       "      <td>editorial_discourse</td>\n",
       "      <td>NaN</td>\n",
       "      <td>Lessons From Massachusetts: Cost Remains a Hur...</td>\n",
       "      <td>961</td>\n",
       "      <td>1</td>\n",
       "      <td>0</td>\n",
       "      <td>1</td>\n",
       "      <td>0</td>\n",
       "      <td>0</td>\n",
       "    </tr>\n",
       "  </tbody>\n",
       "</table>\n",
       "</div>"
      ],
      "text/plain": [
       "                       doi     pm_grouptype                 type abstract  \\\n",
       "0  10.1001/2012.jama.10425  Journal_Article   research_discourse      NaN   \n",
       "1  10.1001/2012.jama.10452  Journal_Article   research_discourse      NaN   \n",
       "2  10.1001/2012.jama.10500             News  editorial_discourse      NaN   \n",
       "3  10.1001/2012.jama.10931        Editorial  editorial_discourse      NaN   \n",
       "4  10.1001/2012.jama.10939             News  editorial_discourse      NaN   \n",
       "\n",
       "                                               title page  author_count  \\\n",
       "0                                A Path to Wholeness  985             4   \n",
       "1                                            Worries  873             1   \n",
       "2  Critics of US House Proposal to Ax AHRQ Say Id...  849             1   \n",
       "3    Atherogenic Vascular Stiffness and Hypertension  919             1   \n",
       "4  Lessons From Massachusetts: Cost Remains a Hur...  961             1   \n",
       "\n",
       "   has_license  is_referenced_by_count  references_count  has_funder  \n",
       "0            0                       1                 0           0  \n",
       "1            0                       1                 0           0  \n",
       "2            0                       0                 0           0  \n",
       "3            0                      11                 0           0  \n",
       "4            0                       1                 0           0  "
      ]
     },
     "execution_count": 4,
     "metadata": {},
     "output_type": "execute_result"
    }
   ],
   "source": [
    "df.head()"
   ]
  },
  {
   "cell_type": "code",
   "execution_count": 5,
   "id": "006393d8-bdf1-44c1-89d7-1dd35b7c2926",
   "metadata": {},
   "outputs": [],
   "source": [
    "def page_counter(page_str):\n",
    "    page_int = 1\n",
    "    if '-' in str(page_str):\n",
    "        try:\n",
    "            page_str = re.sub('[^\\d-]', '', page_str)\n",
    "            page_int = int(abs(eval(page_str)))\n",
    "            if page_int > 5000:\n",
    "                page_int = 5000\n",
    "        except:\n",
    "            pass\n",
    "        \n",
    "    return page_int"
   ]
  },
  {
   "cell_type": "code",
   "execution_count": 6,
   "id": "38de84df-e085-4d0c-93ca-1794174326d1",
   "metadata": {},
   "outputs": [],
   "source": [
    "df['page_count'] = df.page.apply(page_counter)\n",
    "df['page_count'] = df['page_count'].astype(int)"
   ]
  },
  {
   "cell_type": "code",
   "execution_count": 7,
   "id": "7a6ff2e6-c05d-4b88-9017-5da785d33edc",
   "metadata": {},
   "outputs": [],
   "source": [
    "df['title_word_length']  = df['title'].str.split().str.len()\n",
    "df['abstract_word_length']  = df['abstract'].str.split().str.len()"
   ]
  },
  {
   "cell_type": "code",
   "execution_count": 8,
   "id": "1db7b582-bf7f-4ae8-bfc2-934072358a66",
   "metadata": {},
   "outputs": [],
   "source": [
    "df['title_string_length']  = df['title'].str.len()\n",
    "df['abstract_string_length']  = df['abstract'].str.len()"
   ]
  },
  {
   "cell_type": "code",
   "execution_count": 9,
   "id": "5549712d-abe3-407a-a447-21801f1b3245",
   "metadata": {},
   "outputs": [],
   "source": [
    "def has_abstract(abstract_str):\n",
    "    if pd.isna(abstract_str):\n",
    "        return 0\n",
    "    else:\n",
    "        return 1"
   ]
  },
  {
   "cell_type": "code",
   "execution_count": 10,
   "id": "860a77d6-8565-4a3e-8b72-6e467674a27c",
   "metadata": {},
   "outputs": [],
   "source": [
    "df['has_abstract'] = df.abstract.apply(has_abstract)\n",
    "df['has_abstract'] = df['has_abstract'].astype(int)"
   ]
  },
  {
   "cell_type": "code",
   "execution_count": 11,
   "id": "493ddeca-a5db-4972-907a-127f877b46cb",
   "metadata": {},
   "outputs": [],
   "source": [
    "df['title_string_length'] = df['title_string_length'].fillna(0)\n",
    "df['abstract_string_length'] = df['abstract_string_length'].fillna(0)\n",
    "df['title_word_length'] = df['title_word_length'].fillna(0)\n",
    "df['abstract_word_length'] = df['abstract_word_length'].fillna(0)"
   ]
  },
  {
   "cell_type": "code",
   "execution_count": 12,
   "id": "79832b84-896f-47f8-892f-2c78070c2b9a",
   "metadata": {},
   "outputs": [],
   "source": [
    "df = df[df['type'] != 'not assigned']\n",
    "df['type'] = df['type'].replace(to_replace='research_discourse', value=1)\n",
    "df['type'] = df['type'].replace(to_replace='editorial_discourse', value=0)\n",
    "df['type'] = df['type'].astype(int)\n",
    "df = df.reset_index(drop=True)"
   ]
  },
  {
   "cell_type": "code",
   "execution_count": 13,
   "id": "9e2b5fc5-268b-409a-9195-c06d5d8f761a",
   "metadata": {},
   "outputs": [],
   "source": [
    "X = df[['author_count', 'has_license', 'is_referenced_by_count',\n",
    "        'references_count', 'has_funder', 'page_count', 'has_abstract']].values\n",
    "y = df[['type']].values.ravel()"
   ]
  },
  {
   "cell_type": "code",
   "execution_count": 14,
   "id": "49646ede-47e0-42f9-ab00-708a22fcb5ec",
   "metadata": {},
   "outputs": [],
   "source": [
    "X_train, X_test, y_train, y_test = train_test_split(X, y, stratify=y, test_size=0.25, random_state=42)"
   ]
  },
  {
   "cell_type": "markdown",
   "id": "14cbf62d-3e45-4e91-a1b9-c731082d281d",
   "metadata": {},
   "source": [
    "## LogisticRegression"
   ]
  },
  {
   "cell_type": "code",
   "execution_count": 15,
   "id": "71228a0c-2e06-4557-9bc4-9660f3ee8181",
   "metadata": {},
   "outputs": [],
   "source": [
    "classifier = LogisticRegression(max_iter=1000, random_state=42)\n",
    "classifier.fit(X_train, y_train)\n",
    " \n",
    "y_pred = classifier.predict(X_test)"
   ]
  },
  {
   "cell_type": "code",
   "execution_count": 16,
   "id": "9035e086-ed62-4593-8c46-969e6e6cf748",
   "metadata": {},
   "outputs": [
    {
     "name": "stdout",
     "output_type": "stream",
     "text": [
      "                     precision    recall  f1-score   support\n",
      "\n",
      "editorial_discourse       0.76      0.61      0.67     19804\n",
      " research_discourse       0.97      0.98      0.97    229788\n",
      "\n",
      "           accuracy                           0.95    249592\n",
      "          macro avg       0.86      0.80      0.82    249592\n",
      "       weighted avg       0.95      0.95      0.95    249592\n",
      "\n"
     ]
    }
   ],
   "source": [
    "print(classification_report(y_test, y_pred, zero_division=1, target_names=['editorial_discourse', 'research_discourse']))"
   ]
  },
  {
   "cell_type": "markdown",
   "id": "96a94f4b-639d-40ec-b341-76f5c71ae177",
   "metadata": {},
   "source": [
    "## OpenAlex"
   ]
  },
  {
   "cell_type": "code",
   "execution_count": 17,
   "id": "adac4651-6998-46db-a5d6-48ad975c1c78",
   "metadata": {},
   "outputs": [],
   "source": [
    "df_oal_test = pd.read_csv('datasets/oal_doctype_testset.csv')\n",
    "df_oal_test = df_oal_test[df_oal_test['oaltype'] != 'not assigned']\n",
    "df_oal_test = df_oal_test.reset_index(drop=True)"
   ]
  },
  {
   "cell_type": "code",
   "execution_count": 18,
   "id": "5aa84001-eb69-4a5a-b7b4-b5cfbe16780f",
   "metadata": {},
   "outputs": [],
   "source": [
    "df_oal_test = df[['doi', 'type']].merge(df_oal_test, on=['doi'])"
   ]
  },
  {
   "cell_type": "code",
   "execution_count": 19,
   "id": "e293c88f-2ed7-4792-8b4d-2021216d2538",
   "metadata": {},
   "outputs": [],
   "source": [
    "df_oal_test['type'] = df_oal_test['type'].replace(to_replace=1, value='research_discourse')\n",
    "df_oal_test['type'] = df_oal_test['type'].replace(to_replace=0, value='editorial_discourse')"
   ]
  },
  {
   "cell_type": "code",
   "execution_count": 20,
   "id": "87705552-5c50-4c4d-98f4-8454385d6838",
   "metadata": {},
   "outputs": [],
   "source": [
    "y_pm = df_oal_test[['type']].values.ravel()\n",
    "y_oal = df_oal_test[['oaltype']].values.ravel()"
   ]
  },
  {
   "cell_type": "code",
   "execution_count": 21,
   "id": "fa84ae2b-948a-4231-a825-2b42c8e60917",
   "metadata": {},
   "outputs": [
    {
     "name": "stdout",
     "output_type": "stream",
     "text": [
      "                     precision    recall  f1-score   support\n",
      "\n",
      "editorial_discourse       0.99      0.06      0.12     79200\n",
      " research_discourse       0.93      1.00      0.96    918058\n",
      "\n",
      "           accuracy                           0.93    997258\n",
      "          macro avg       0.96      0.53      0.54    997258\n",
      "       weighted avg       0.93      0.93      0.89    997258\n",
      "\n"
     ]
    }
   ],
   "source": [
    "print(classification_report(y_pm, y_oal, zero_division=1))"
   ]
  },
  {
   "cell_type": "markdown",
   "id": "62dc0e07-df22-4e90-8895-228ddd3363bb",
   "metadata": {},
   "source": [
    "## Scopus"
   ]
  },
  {
   "cell_type": "code",
   "execution_count": 22,
   "id": "81f62fd3-e2d7-4f9d-b734-54bcbc7369d4",
   "metadata": {},
   "outputs": [],
   "source": [
    "df_scp_test = pd.read_csv('datasets/scp_doctype_testset.csv')\n",
    "df_scp_test = df_scp_test[df_scp_test['scptype'] != 'not assigned']\n",
    "df_scp_test = df_scp_test.reset_index(drop=True)"
   ]
  },
  {
   "cell_type": "code",
   "execution_count": 23,
   "id": "76243f44-b34e-48c5-9371-6cfbf3c6bd08",
   "metadata": {},
   "outputs": [],
   "source": [
    "df_scp_test = df[['doi', 'type']].merge(df_scp_test, on=['doi'])"
   ]
  },
  {
   "cell_type": "code",
   "execution_count": 24,
   "id": "93ce38c0-2030-4210-8e76-5cca587dd235",
   "metadata": {},
   "outputs": [],
   "source": [
    "df_scp_test['type'] = df_scp_test['type'].replace(to_replace=1, value='research_discourse')\n",
    "df_scp_test['type'] = df_scp_test['type'].replace(to_replace=0, value='editorial_discourse')"
   ]
  },
  {
   "cell_type": "code",
   "execution_count": 25,
   "id": "a6c7bf44-9a9c-4b87-9ffa-fcaabbbc0fa8",
   "metadata": {},
   "outputs": [],
   "source": [
    "y_pm = df_scp_test[['type']].values.ravel()\n",
    "y_scp = df_scp_test[['scptype']].values.ravel()"
   ]
  },
  {
   "cell_type": "code",
   "execution_count": 26,
   "id": "f1d51a4b-8956-4be2-941a-322cdc43f52d",
   "metadata": {},
   "outputs": [
    {
     "name": "stdout",
     "output_type": "stream",
     "text": [
      "                     precision    recall  f1-score   support\n",
      "\n",
      "editorial_discourse       0.69      0.93      0.79     59480\n",
      " research_discourse       1.00      0.97      0.98    911611\n",
      "\n",
      "           accuracy                           0.97    971091\n",
      "          macro avg       0.84      0.95      0.89    971091\n",
      "       weighted avg       0.98      0.97      0.97    971091\n",
      "\n"
     ]
    }
   ],
   "source": [
    "print(classification_report(y_pm, y_scp, zero_division=1))"
   ]
  },
  {
   "cell_type": "markdown",
   "id": "a2d126c9-a2d7-44b3-8cd2-074c99cb2df0",
   "metadata": {},
   "source": [
    "## Dummy"
   ]
  },
  {
   "cell_type": "code",
   "execution_count": 27,
   "id": "4297365f-1530-4709-b143-eec8ce240e5e",
   "metadata": {},
   "outputs": [
    {
     "name": "stdout",
     "output_type": "stream",
     "text": [
      "                     precision    recall  f1-score   support\n",
      "\n",
      "editorial_discourse       0.08      0.08      0.08     79217\n",
      " research_discourse       0.92      0.92      0.92    919150\n",
      "\n",
      "           accuracy                           0.85    998367\n",
      "          macro avg       0.50      0.50      0.50    998367\n",
      "       weighted avg       0.85      0.85      0.85    998367\n",
      "\n"
     ]
    }
   ],
   "source": [
    "dummy_clf = DummyClassifier(strategy='stratified')\n",
    "dummy_clf.fit(X, y)\n",
    "\n",
    "y_pred = dummy_clf.predict(X)\n",
    "print(classification_report(y, y_pred, zero_division=1, target_names=['editorial_discourse', 'research_discourse']))"
   ]
  },
  {
   "cell_type": "code",
   "execution_count": 28,
   "id": "6b55c19f-521e-40a6-8b3a-19293ec6383d",
   "metadata": {},
   "outputs": [],
   "source": [
    "## RandomForest"
   ]
  },
  {
   "cell_type": "code",
   "execution_count": 29,
   "id": "97a87580-ea69-4919-91c0-35242b1c3500",
   "metadata": {},
   "outputs": [
    {
     "name": "stdout",
     "output_type": "stream",
     "text": [
      "                     precision    recall  f1-score   support\n",
      "\n",
      "editorial_discourse       0.72      0.70      0.71     19804\n",
      " research_discourse       0.97      0.98      0.98    229788\n",
      "\n",
      "           accuracy                           0.95    249592\n",
      "          macro avg       0.85      0.84      0.84    249592\n",
      "       weighted avg       0.95      0.95      0.95    249592\n",
      "\n"
     ]
    }
   ],
   "source": [
    "from sklearn.ensemble import RandomForestClassifier\n",
    "\n",
    "clf = RandomForestClassifier(criterion='gini', max_depth=None, max_features='sqrt', n_estimators=200, n_jobs=-1, random_state=42)\n",
    "clf.fit(X_train, y_train)\n",
    " \n",
    "y_pred = clf.predict(X_test)\n",
    "\n",
    "print(classification_report(y_test, y_pred, zero_division=1, target_names=['editorial_discourse', 'research_discourse']))"
   ]
  },
  {
   "cell_type": "code",
   "execution_count": 30,
   "id": "295514db-cb0b-4a5f-b5b9-28db32dadf2b",
   "metadata": {},
   "outputs": [],
   "source": [
    "importances = clf.feature_importances_"
   ]
  },
  {
   "cell_type": "code",
   "execution_count": 31,
   "id": "fcc50408-15c5-45f6-8580-9e4420ff53e5",
   "metadata": {},
   "outputs": [
    {
     "data": {
      "image/png": "[encoded data removed]",
      "text/plain": [
       "<Figure size 550x450 with 1 Axes>"
      ]
     },
     "metadata": {
      "image/png": {
       "height": 446,
       "width": 545
      }
     },
     "output_type": "display_data"
    }
   ],
   "source": [
    "forest_importances = pd.Series(importances, index=[['author_count', 'has_license', 'is_referenced_by_count',\n",
    "        'references_count', 'has_funder', 'page_count', 'has_abstract']])\n",
    "std = np.std([tree.feature_importances_ for tree in clf.estimators_], axis=0)\n",
    "\n",
    "fig, ax = plt.subplots(figsize=(5.5,4.5))\n",
    "plt.box(False)\n",
    "forest_importances.plot.bar(yerr=std, ax=ax, color='#56B4E9')\n",
    "ax.xaxis.grid(False)\n",
    "fig.tight_layout()\n",
    "plt.show()\n",
    "fig.savefig('media/clf_importances.png', format='png', bbox_inches='tight', dpi=500)"
   ]
  },
  {
   "cell_type": "markdown",
   "id": "faf3d51c-1d94-4902-8ba5-13506b3334f7",
   "metadata": {},
   "source": [
    "## KNN"
   ]
  },
  {
   "cell_type": "code",
   "execution_count": 32,
   "id": "4af8e71f-3b92-4d2e-bb49-8f07a43e5c6f",
   "metadata": {},
   "outputs": [
    {
     "name": "stdout",
     "output_type": "stream",
     "text": [
      "                     precision    recall  f1-score   support\n",
      "\n",
      "editorial_discourse       0.71      0.73      0.72     19804\n",
      " research_discourse       0.98      0.97      0.98    229788\n",
      "\n",
      "           accuracy                           0.96    249592\n",
      "          macro avg       0.85      0.85      0.85    249592\n",
      "       weighted avg       0.96      0.96      0.96    249592\n",
      "\n"
     ]
    }
   ],
   "source": [
    "from sklearn.neighbors import KNeighborsClassifier\n",
    "\n",
    "knn = KNeighborsClassifier(n_neighbors=20, weights='uniform', leaf_size=30, p=1, n_jobs=-1)\n",
    "knn.fit(X_train, y_train)\n",
    "\n",
    "y_pred = knn.predict(X_test)\n",
    "\n",
    "print(classification_report(y_test, y_pred, zero_division=1, target_names=['editorial_discourse', 'research_discourse']))"
   ]
  },
  {
   "cell_type": "code",
   "execution_count": 33,
   "id": "7c71a51d-fc97-4817-a3a6-e5ed17c30eba",
   "metadata": {},
   "outputs": [],
   "source": [
    "cv = KFold(n_splits=10, random_state=42, shuffle=True)\n",
    "scores = cross_val_score(knn, X_train, y_train, scoring='accuracy', cv=cv, n_jobs=-1)"
   ]
  },
  {
   "cell_type": "code",
   "execution_count": 34,
   "id": "1770f6e7-3a0c-4e7b-af27-85edea58ee8b",
   "metadata": {},
   "outputs": [
    {
     "name": "stdout",
     "output_type": "stream",
     "text": [
      "Accuracy: 0.955 (0.001)\n"
     ]
    }
   ],
   "source": [
    "from numpy import mean, std\n",
    "print('Accuracy: %.3f (%.3f)' % (mean(scores), std(scores)))"
   ]
  },
  {
   "cell_type": "code",
   "execution_count": 35,
   "id": "de4e36b8-c21a-4b73-8e9d-5950d936042d",
   "metadata": {},
   "outputs": [
    {
     "data": {
      "text/plain": [
       "array([0.95494004, 0.95480649, 0.9557814 , 0.95539411, 0.95532733,\n",
       "       0.95463226, 0.9557541 , 0.95757042, 0.95516647, 0.95527331])"
      ]
     },
     "execution_count": 35,
     "metadata": {},
     "output_type": "execute_result"
    }
   ],
   "source": [
    "scores"
   ]
  },
  {
   "cell_type": "code",
   "execution_count": null,
   "id": "56afc363-4bd7-4fdd-961e-fc16c0349419",
   "metadata": {},
   "outputs": [],
   "source": []
  }
 ],
 "metadata": {
  "kernelspec": {
   "display_name": "Python 3 (ipykernel)",
   "language": "python",
   "name": "python3"
  },
  "language_info": {
   "codemirror_mode": {
    "name": "ipython",
    "version": 3
   },
   "file_extension": ".py",
   "mimetype": "text/x-python",
   "name": "python",
   "nbconvert_exporter": "python",
   "pygments_lexer": "ipython3",
   "version": "3.11.9"
  }
 },
 "nbformat": 4,
 "nbformat_minor": 5
}
