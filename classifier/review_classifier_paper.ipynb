{
 "cells": [
  {
   "cell_type": "code",
   "execution_count": 1,
   "id": "dfc97b26-3eea-4546-834c-1687b6fcfcf0",
   "metadata": {},
   "outputs": [],
   "source": [
    "from google.cloud import bigquery\n",
    "import pandas as pd\n",
    "import matplotlib.pyplot as plt\n",
    "import matplotlib.dates as mdates\n",
    "import matplotlib.ticker as mtick\n",
    "import matplotlib.patches as mpatches\n",
    "from matplotlib.lines import Line2D\n",
    "import seaborn as sns\n",
    "import matplotlib.image as mpimg\n",
    "import os\n",
    "from sqlalchemy import create_engine"
   ]
  },
  {
   "cell_type": "code",
   "execution_count": 2,
   "id": "c8bc015a-0ceb-49b0-b068-9c230c2ac4a4",
   "metadata": {},
   "outputs": [],
   "source": [
    "sns.set_style('whitegrid')\n",
    "plt.rc('font', family='Arial')\n",
    "plt.rc('font', size=9) \n",
    "plt.rc('axes', titlesize=9) \n",
    "plt.rc('axes', labelsize=9) \n",
    "plt.rc('xtick', labelsize=9) \n",
    "plt.rc('ytick', labelsize=9) \n",
    "plt.rc('legend', fontsize=9)"
   ]
  },
  {
   "cell_type": "code",
   "execution_count": 4,
   "id": "968de8e0-bb94-4983-b39a-a02432aa2d51",
   "metadata": {},
   "outputs": [],
   "source": [
    "host = os.environ['KB_HOST']\n",
    "database = os.environ['KB_DATABASE']\n",
    "user = os.environ['KB_USER']\n",
    "pw = os.environ['KB_PASSWORD']\n",
    "port = os.environ['KB_PORT']\n",
    "engine = create_engine(f'postgresql://{user}:{pw}@{host}:{port}/{database}')"
   ]
  },
  {
   "cell_type": "code",
   "execution_count": 19,
   "id": "dc34d737-3742-40c4-b17e-c6dd819543ac",
   "metadata": {},
   "outputs": [],
   "source": [
    "oal_cla_n = pd.read_sql(\"\"\"\n",
    "                        SELECT COUNT(DISTINCT(dt.doi)) AS n, is_research\n",
    "                        FROM kb_project_openbib.classification_article_reviews_2014_2024_august24 AS dt\n",
    "                        JOIN fiz_openalex_bdb_20240831_openbib.items AS oal\n",
    "                            ON LOWER(dt.doi) = LOWER(oal.doi)\n",
    "                        WHERE oal.pubyear BETWEEN 2014 AND 2023\n",
    "                        GROUP BY is_research\n",
    "                        \"\"\", \n",
    "                        con=engine)"
   ]
  },
  {
   "cell_type": "code",
   "execution_count": 22,
   "id": "4542109c-7742-421b-903d-1954e32d3b8d",
   "metadata": {},
   "outputs": [
    {
     "data": {
      "text/plain": [
       "0    0.107489\n",
       "Name: n, dtype: float64"
      ]
     },
     "execution_count": 22,
     "metadata": {},
     "output_type": "execute_result"
    }
   ],
   "source": [
    "oal_cla_n[oal_cla_n['is_research'] == False].n / oal_cla_n.n.sum()"
   ]
  },
  {
   "cell_type": "code",
   "execution_count": 24,
   "id": "563a4714-ee0a-44fd-80ab-fd52292c3be5",
   "metadata": {},
   "outputs": [
    {
     "data": {
      "text/plain": [
       "0    4589967\n",
       "Name: n, dtype: int64"
      ]
     },
     "execution_count": 24,
     "metadata": {},
     "output_type": "execute_result"
    }
   ],
   "source": [
    "oal_cla_n[oal_cla_n['is_research'] == False].n"
   ]
  },
  {
   "cell_type": "code",
   "execution_count": 23,
   "id": "58bd8717-5c6c-42fd-904b-4f752796b143",
   "metadata": {},
   "outputs": [
    {
     "data": {
      "text/plain": [
       "42701863"
      ]
     },
     "execution_count": 23,
     "metadata": {},
     "output_type": "execute_result"
    }
   ],
   "source": [
    "oal_cla_n.n.sum()"
   ]
  },
  {
   "cell_type": "code",
   "execution_count": 8,
   "id": "c4c8495c-f9e3-4805-964f-6841ffd42044",
   "metadata": {},
   "outputs": [],
   "source": [
    "scp_cla_n = pd.read_sql(\"\"\"\n",
    "                        SELECT COUNT(DISTINCT(dt.doi)) AS n, is_research\n",
    "                        FROM kb_project_openbib.classification_article_reviews_2014_2024_august24 AS dt\n",
    "                        JOIN scp_b_202407.items scp\n",
    "                            ON LOWER(dt.doi) = LOWER(scp.doi)\n",
    "                        WHERE ('Article' = ANY(item_type) OR 'Review' = ANY(item_type)) AND (scp.pubyear BETWEEN 2014 AND 2023)\n",
    "                        GROUP BY is_research\n",
    "                        \"\"\", \n",
    "                        con=engine)"
   ]
  },
  {
   "cell_type": "code",
   "execution_count": 26,
   "id": "ea2d02a2-4d52-4449-ba2b-19a42264fd61",
   "metadata": {},
   "outputs": [
    {
     "data": {
      "text/plain": [
       "0    327522\n",
       "Name: n, dtype: int64"
      ]
     },
     "execution_count": 26,
     "metadata": {},
     "output_type": "execute_result"
    }
   ],
   "source": [
    "scp_cla_n[scp_cla_n['is_research'] == False].n"
   ]
  },
  {
   "cell_type": "code",
   "execution_count": 25,
   "id": "18550ab0-81e9-4584-944a-70803d6fcaf2",
   "metadata": {},
   "outputs": [
    {
     "data": {
      "text/plain": [
       "22338918"
      ]
     },
     "execution_count": 25,
     "metadata": {},
     "output_type": "execute_result"
    }
   ],
   "source": [
    "scp_cla_n.n.sum()"
   ]
  },
  {
   "cell_type": "code",
   "execution_count": 9,
   "id": "fd5a0e34-df7e-4ae4-9a0f-5df65256e8e0",
   "metadata": {},
   "outputs": [
    {
     "data": {
      "text/plain": [
       "0    0.014661\n",
       "Name: n, dtype: float64"
      ]
     },
     "execution_count": 9,
     "metadata": {},
     "output_type": "execute_result"
    }
   ],
   "source": [
    "scp_cla_n[scp_cla_n['is_research'] == False].n / scp_cla_n.n.sum()"
   ]
  },
  {
   "cell_type": "code",
   "execution_count": 10,
   "id": "5ab1633e-35d1-4538-a180-e408eec05bb4",
   "metadata": {},
   "outputs": [],
   "source": [
    "oal_n = pd.read_sql(\"\"\"\n",
    "                    SELECT COUNT(DISTINCT(oal.doi)) AS n, oal.pubyear \n",
    "                    FROM fiz_openalex_bdb_20240831_openbib.items AS oal\n",
    "                    JOIN scp_b_202407.items AS scp\n",
    "                        ON LOWER(oal.doi) = LOWER(scp.doi)\n",
    "                    WHERE oal.pubyear BETWEEN 2014 AND 2023 AND oal.source_type = 'journal'\n",
    "                        AND ('article' = ANY(oal.item_type) OR 'review' = ANY(oal.item_type))\n",
    "                    GROUP BY oal.pubyear \n",
    "                    \"\"\", \n",
    "                    con=engine)"
   ]
  },
  {
   "cell_type": "code",
   "execution_count": 11,
   "id": "6785d31d-bf10-4bfe-9a1d-48476d9c0623",
   "metadata": {},
   "outputs": [],
   "source": [
    "scp_n = pd.read_sql(\"\"\"\n",
    "                    SELECT COUNT(DISTINCT(oal.doi)) AS n, oal.pubyear \n",
    "                    FROM fiz_openalex_bdb_20240831_openbib.items AS oal\n",
    "                    JOIN scp_b_202407.items AS scp\n",
    "                        ON LOWER(oal.doi) = LOWER(scp.doi)\n",
    "                    WHERE oal.pubyear BETWEEN 2014 AND 2023 AND oal.source_type = 'journal'\n",
    "                        AND ('Article' = ANY(scp.item_type) OR 'Review' = ANY(scp.item_type))\n",
    "                    GROUP BY oal.pubyear \n",
    "                    \"\"\", \n",
    "                    con=engine)"
   ]
  },
  {
   "cell_type": "code",
   "execution_count": 12,
   "id": "77086e75-d16c-4483-a3dd-324fdf21c694",
   "metadata": {},
   "outputs": [],
   "source": [
    "dt_n = pd.read_sql(\"\"\"\n",
    "                   SELECT COUNT(DISTINCT(dt.doi)) AS n, oal.pubyear \n",
    "                   FROM kb_project_openbib.classification_article_reviews_2014_2024_august24 AS dt\n",
    "                   JOIN scp_b_202407.items AS scp\n",
    "                       ON LOWER(dt.doi) = LOWER(scp.doi)\n",
    "                   JOIN fiz_openalex_bdb_20240831_openbib.items AS oal \n",
    "                       ON LOWER(dt.doi) = LOWER(oal.doi)\n",
    "                   WHERE oal.pubyear BETWEEN 2014 AND 2023 AND oal.source_type = 'journal'\n",
    "                       AND is_research=True AND oal.source_type = 'journal' \n",
    "                   GROUP BY oal.pubyear \n",
    "                   \"\"\", \n",
    "                   con=engine)"
   ]
  },
  {
   "cell_type": "code",
   "execution_count": 13,
   "id": "01896404-b306-4ef9-bc77-8bc8cec7c8a2",
   "metadata": {},
   "outputs": [],
   "source": [
    "all_n = pd.read_sql(\"\"\"\n",
    "                   SELECT COUNT(DISTINCT(oal.doi)) AS n\n",
    "                   FROM fiz_openalex_bdb_20240831_openbib.items AS oal \n",
    "                   JOIN scp_b_202407.items AS scp\n",
    "                       ON LOWER(oal.doi) = LOWER(scp.doi)\n",
    "                   WHERE oal.pubyear BETWEEN 2014 AND 2023 AND oal.source_type = 'journal'\n",
    "                   \"\"\", \n",
    "                   con=engine)"
   ]
  },
  {
   "cell_type": "code",
   "execution_count": 14,
   "id": "de5b4b8b-03b4-4683-a5a8-9036dd1ab9e9",
   "metadata": {},
   "outputs": [
    {
     "data": {
      "text/plain": [
       "0.9586868104541294"
      ]
     },
     "execution_count": 14,
     "metadata": {},
     "output_type": "execute_result"
    }
   ],
   "source": [
    "oal_n.n.sum() / all_n.n.sum()"
   ]
  },
  {
   "cell_type": "code",
   "execution_count": 15,
   "id": "2d209ee1-06c6-4e10-ac31-fa953d4233b2",
   "metadata": {},
   "outputs": [
    {
     "data": {
      "text/plain": [
       "0.88919106503258"
      ]
     },
     "execution_count": 15,
     "metadata": {},
     "output_type": "execute_result"
    }
   ],
   "source": [
    "scp_n.n.sum() / all_n.n.sum()"
   ]
  },
  {
   "cell_type": "code",
   "execution_count": 16,
   "id": "1a325b20-178a-4c53-937c-9f8cc0c713ac",
   "metadata": {},
   "outputs": [
    {
     "data": {
      "text/plain": [
       "0.9318841104461512"
      ]
     },
     "execution_count": 16,
     "metadata": {},
     "output_type": "execute_result"
    }
   ],
   "source": [
    "dt_n.n.sum() / all_n.n.sum()"
   ]
  },
  {
   "cell_type": "code",
   "execution_count": 21,
   "id": "ffbee7dd-769b-4988-82e2-bf44e55e99dc",
   "metadata": {},
   "outputs": [
    {
     "data": {
      "image/png": "[encoded data removed]",
      "text/plain": [
       "<Figure size 600x450 with 1 Axes>"
      ]
     },
     "metadata": {},
     "output_type": "display_data"
    }
   ],
   "source": [
    "fig, ax = plt.subplots(figsize=(6,4.5))\n",
    "plt.box(False)\n",
    "\n",
    "sns.lineplot(data=oal_n,\n",
    "             x='pubyear',\n",
    "             y='n',\n",
    "             color='#c3c3c3',\n",
    "             marker='o',\n",
    "             ax=ax)\n",
    "\n",
    "sns.lineplot(data=scp_n,\n",
    "             x='pubyear',\n",
    "             y='n',\n",
    "             color='#9e0059',\n",
    "             marker='o',\n",
    "             ax=ax)\n",
    "\n",
    "sns.lineplot(data=dt_n,\n",
    "             x='pubyear',\n",
    "             y='n',\n",
    "             color='#E5BA52',\n",
    "             marker='o',\n",
    "             ax=ax)\n",
    "\n",
    "ax.yaxis.set_major_formatter(mtick.StrMethodFormatter('{x:,.0f}'))\n",
    "ax.grid(False, which='both', axis='x')\n",
    "ax.set(xlabel='Year', ylabel='Number of articles and reviews')\n",
    "\n",
    "clas_patch = Line2D([0], [0], color='#E5BA52', label='Classifier')\n",
    "scp_patch = Line2D([0], [0], color='#9e0059', label='Scopus (07/2024)')\n",
    "oal_patch = Line2D([0], [0], color='#c3c3c3', label='OpenAlex (08/2024)')\n",
    "\n",
    "lgd = fig.legend(handles=[clas_patch, scp_patch, oal_patch], frameon=False,\n",
    "                 bbox_to_anchor=(1.3, 0.9), labelspacing=1.1)\n",
    "\n",
    "plt.tight_layout()\n",
    "\n",
    "plt.show()\n",
    "fig.savefig(f'media/oal_scp_comparison_paper.png', format='png', bbox_inches='tight', dpi=500)"
   ]
  },
  {
   "cell_type": "code",
   "execution_count": 27,
   "id": "0adaaa1e-d88b-486a-b824-33031370ee3e",
   "metadata": {},
   "outputs": [
    {
     "data": {
      "text/plain": [
       "24465047"
      ]
     },
     "execution_count": 27,
     "metadata": {},
     "output_type": "execute_result"
    }
   ],
   "source": [
    "oal_n.n.sum()"
   ]
  },
  {
   "cell_type": "code",
   "execution_count": 28,
   "id": "6758901d-e9df-4d1d-8bb2-b3a7568d2364",
   "metadata": {},
   "outputs": [
    {
     "data": {
      "text/plain": [
       "22691562"
      ]
     },
     "execution_count": 28,
     "metadata": {},
     "output_type": "execute_result"
    }
   ],
   "source": [
    "scp_n.n.sum()"
   ]
  },
  {
   "cell_type": "code",
   "execution_count": 29,
   "id": "71dcef2d-a0dd-4148-be45-7c668beeadf3",
   "metadata": {},
   "outputs": [
    {
     "data": {
      "text/plain": [
       "23781060"
      ]
     },
     "execution_count": 29,
     "metadata": {},
     "output_type": "execute_result"
    }
   ],
   "source": [
    "dt_n.n.sum()"
   ]
  },
  {
   "cell_type": "code",
   "execution_count": 30,
   "id": "704cc2f3-1ec5-48a0-8374-8d9973760d35",
   "metadata": {},
   "outputs": [
    {
     "data": {
      "text/plain": [
       "25519332"
      ]
     },
     "execution_count": 30,
     "metadata": {},
     "output_type": "execute_result"
    }
   ],
   "source": [
    "all_n.n.sum()"
   ]
  },
  {
   "cell_type": "code",
   "execution_count": 23,
   "id": "fc407e1e-9973-4364-96c1-c00a250ed31f",
   "metadata": {},
   "outputs": [],
   "source": [
    "oal_topic = pd.read_sql(\"\"\"\n",
    "                        SELECT COUNT(DISTINCT(oal.doi)) AS n, domains.display_name AS topic, is_research\n",
    "                        FROM fiz_openalex_rep_20240831_openbib_fdw.works AS oal\n",
    "                        LEFT JOIN fiz_openalex_rep_20240831_openbib_fdw.topics AS topics\n",
    "                            ON oal.primary_topic = topics.id\n",
    "                        LEFT JOIN fiz_openalex_rep_20240831_openbib_fdw.domains AS domains\n",
    "                            ON topics.domain_id = domains.id\n",
    "                        JOIN kb_project_openbib.classification_article_reviews_2014_2024_august24 AS dt\n",
    "                            ON LOWER(TRIM('https://doi.org/' from oal.doi)) = LOWER(dt.doi)\n",
    "                        WHERE oal.publication_year BETWEEN 2014 AND 2023\n",
    "                        GROUP BY domains.display_name, is_research\n",
    "                        \"\"\", \n",
    "                        con=engine)"
   ]
  },
  {
   "cell_type": "code",
   "execution_count": 25,
   "id": "1f5d58f4-3367-412a-8d21-f223ef755fff",
   "metadata": {},
   "outputs": [],
   "source": [
    "oal_topic = oal_topic.fillna(value='No topic assigned')"
   ]
  },
  {
   "cell_type": "code",
   "execution_count": 30,
   "id": "cea541b3-9201-4757-8dd9-47e679c0e4ec",
   "metadata": {},
   "outputs": [
    {
     "data": {
      "image/png": "[encoded data removed]",
      "text/plain": [
       "<Figure size 650x400 with 1 Axes>"
      ]
     },
     "metadata": {},
     "output_type": "display_data"
    }
   ],
   "source": [
    "fig, ax = plt.subplots(figsize=(6.5,4))\n",
    "plt.box(False)\n",
    "\n",
    "sns.barplot(data=oal_topic.groupby(['topic'])['n'].sum().reset_index(), \n",
    "            x='n', \n",
    "            y='topic', \n",
    "            alpha=0.6,\n",
    "            color='#b3b3b3a0',\n",
    "            order=['Physical Sciences', 'Health Sciences', 'Social Sciences', 'Life Sciences', 'No topic assigned'],\n",
    "            width=0.5,\n",
    "            saturation=1,\n",
    "            errorbar=None)\n",
    "\n",
    "sns.barplot(data=oal_topic[oal_topic.is_research == True], \n",
    "            x='n', \n",
    "            y='topic', \n",
    "            alpha=1,\n",
    "            color='#E5BA52',\n",
    "            order=['Physical Sciences', 'Health Sciences', 'Social Sciences', 'Life Sciences', 'No topic assigned'],\n",
    "            width=0.5,\n",
    "            saturation=1,\n",
    "            errorbar=None)\n",
    "\n",
    "ax.xaxis.set_major_formatter(mtick.StrMethodFormatter('{x:,.0f}'))\n",
    "\n",
    "ax.set(xlabel='Number of articles and reviews', ylabel='Topic')\n",
    "\n",
    "research_patch = mpatches.Patch(color='#E5BA52', label='Research')\n",
    "not_research_patch = mpatches.Patch(color='#b3b3b3a0', label='Not research')\n",
    "\n",
    "lgd = fig.legend(handles=[research_patch, not_research_patch], frameon=False,\n",
    "                 bbox_to_anchor=(1.15, 0.9), labelspacing=1.1)\n",
    "\n",
    "plt.tight_layout()\n",
    "\n",
    "plt.show()\n",
    "fig.savefig(f'media/dt_topics_paper.png', format='png', bbox_inches='tight', dpi=500)"
   ]
  },
  {
   "cell_type": "code",
   "execution_count": 31,
   "id": "866672f4-5091-4aeb-b296-36a914f23e2a",
   "metadata": {},
   "outputs": [
    {
     "data": {
      "text/html": [
       "<div>\n",
       "<style scoped>\n",
       "    .dataframe tbody tr th:only-of-type {\n",
       "        vertical-align: middle;\n",
       "    }\n",
       "\n",
       "    .dataframe tbody tr th {\n",
       "        vertical-align: top;\n",
       "    }\n",
       "\n",
       "    .dataframe thead th {\n",
       "        text-align: right;\n",
       "    }\n",
       "</style>\n",
       "<table border=\"1\" class=\"dataframe\">\n",
       "  <thead>\n",
       "    <tr style=\"text-align: right;\">\n",
       "      <th></th>\n",
       "      <th>n</th>\n",
       "      <th>topic</th>\n",
       "      <th>is_research</th>\n",
       "    </tr>\n",
       "  </thead>\n",
       "  <tbody>\n",
       "    <tr>\n",
       "      <th>0</th>\n",
       "      <td>1687870</td>\n",
       "      <td>Health Sciences</td>\n",
       "      <td>False</td>\n",
       "    </tr>\n",
       "    <tr>\n",
       "      <th>1</th>\n",
       "      <td>9161300</td>\n",
       "      <td>Health Sciences</td>\n",
       "      <td>True</td>\n",
       "    </tr>\n",
       "    <tr>\n",
       "      <th>2</th>\n",
       "      <td>492378</td>\n",
       "      <td>Life Sciences</td>\n",
       "      <td>False</td>\n",
       "    </tr>\n",
       "    <tr>\n",
       "      <th>3</th>\n",
       "      <td>5197915</td>\n",
       "      <td>Life Sciences</td>\n",
       "      <td>True</td>\n",
       "    </tr>\n",
       "    <tr>\n",
       "      <th>4</th>\n",
       "      <td>680268</td>\n",
       "      <td>Physical Sciences</td>\n",
       "      <td>False</td>\n",
       "    </tr>\n",
       "    <tr>\n",
       "      <th>5</th>\n",
       "      <td>13175388</td>\n",
       "      <td>Physical Sciences</td>\n",
       "      <td>True</td>\n",
       "    </tr>\n",
       "    <tr>\n",
       "      <th>6</th>\n",
       "      <td>1129460</td>\n",
       "      <td>Social Sciences</td>\n",
       "      <td>False</td>\n",
       "    </tr>\n",
       "    <tr>\n",
       "      <th>7</th>\n",
       "      <td>8775274</td>\n",
       "      <td>Social Sciences</td>\n",
       "      <td>True</td>\n",
       "    </tr>\n",
       "    <tr>\n",
       "      <th>8</th>\n",
       "      <td>530817</td>\n",
       "      <td>No topic assigned</td>\n",
       "      <td>False</td>\n",
       "    </tr>\n",
       "    <tr>\n",
       "      <th>9</th>\n",
       "      <td>1439399</td>\n",
       "      <td>No topic assigned</td>\n",
       "      <td>True</td>\n",
       "    </tr>\n",
       "  </tbody>\n",
       "</table>\n",
       "</div>"
      ],
      "text/plain": [
       "          n              topic  is_research\n",
       "0   1687870    Health Sciences        False\n",
       "1   9161300    Health Sciences         True\n",
       "2    492378      Life Sciences        False\n",
       "3   5197915      Life Sciences         True\n",
       "4    680268  Physical Sciences        False\n",
       "5  13175388  Physical Sciences         True\n",
       "6   1129460    Social Sciences        False\n",
       "7   8775274    Social Sciences         True\n",
       "8    530817  No topic assigned        False\n",
       "9   1439399  No topic assigned         True"
      ]
     },
     "execution_count": 31,
     "metadata": {},
     "output_type": "execute_result"
    }
   ],
   "source": [
    "oal_topic"
   ]
  },
  {
   "cell_type": "code",
   "execution_count": 32,
   "id": "8a18654c-749b-495d-8d10-2c116e692ae1",
   "metadata": {},
   "outputs": [
    {
     "data": {
      "text/plain": [
       "42270069"
      ]
     },
     "execution_count": 32,
     "metadata": {},
     "output_type": "execute_result"
    }
   ],
   "source": [
    "oal_topic.n.sum()"
   ]
  },
  {
   "cell_type": "code",
   "execution_count": 6,
   "id": "6bc6e429-2028-46a4-9782-e1a05b9924cf",
   "metadata": {},
   "outputs": [],
   "source": [
    "oal_types = pd.read_sql(\"\"\"\n",
    "                        SELECT COUNT(DISTINCT(oal.doi)) AS n, oal.type\n",
    "                        FROM fiz_openalex_rep_20240831_openbib.works AS oal\n",
    "                        JOIN fiz_openalex_rep_20240831_openbib.works_primary_locations AS pl\n",
    "                            ON LOWER(oal.id) = LOWER(pl.work_id)\n",
    "                        JOIN fiz_openalex_rep_20240831_openbib.sources AS s\n",
    "                            ON LOWER(pl.source_id) = LOWER(s.id)\n",
    "                        WHERE oal.publication_year BETWEEN 2014 AND 2023 AND s.type = 'journal'\n",
    "                        GROUP BY oal.type\n",
    "                        \"\"\", \n",
    "                        con=engine)"
   ]
  },
  {
   "cell_type": "code",
   "execution_count": 7,
   "id": "6aed3371-b0db-45dd-b988-66166d63100a",
   "metadata": {},
   "outputs": [
    {
     "data": {
      "text/html": [
       "<div>\n",
       "<style scoped>\n",
       "    .dataframe tbody tr th:only-of-type {\n",
       "        vertical-align: middle;\n",
       "    }\n",
       "\n",
       "    .dataframe tbody tr th {\n",
       "        vertical-align: top;\n",
       "    }\n",
       "\n",
       "    .dataframe thead th {\n",
       "        text-align: right;\n",
       "    }\n",
       "</style>\n",
       "<table border=\"1\" class=\"dataframe\">\n",
       "  <thead>\n",
       "    <tr style=\"text-align: right;\">\n",
       "      <th></th>\n",
       "      <th>n</th>\n",
       "      <th>type</th>\n",
       "    </tr>\n",
       "  </thead>\n",
       "  <tbody>\n",
       "    <tr>\n",
       "      <th>0</th>\n",
       "      <td>40949987</td>\n",
       "      <td>article</td>\n",
       "    </tr>\n",
       "    <tr>\n",
       "      <th>1</th>\n",
       "      <td>14668</td>\n",
       "      <td>book</td>\n",
       "    </tr>\n",
       "    <tr>\n",
       "      <th>2</th>\n",
       "      <td>28672</td>\n",
       "      <td>book-chapter</td>\n",
       "    </tr>\n",
       "    <tr>\n",
       "      <th>3</th>\n",
       "      <td>87000</td>\n",
       "      <td>dataset</td>\n",
       "    </tr>\n",
       "    <tr>\n",
       "      <th>4</th>\n",
       "      <td>596</td>\n",
       "      <td>dissertation</td>\n",
       "    </tr>\n",
       "    <tr>\n",
       "      <th>5</th>\n",
       "      <td>267800</td>\n",
       "      <td>editorial</td>\n",
       "    </tr>\n",
       "    <tr>\n",
       "      <th>6</th>\n",
       "      <td>186234</td>\n",
       "      <td>erratum</td>\n",
       "    </tr>\n",
       "    <tr>\n",
       "      <th>7</th>\n",
       "      <td>615810</td>\n",
       "      <td>letter</td>\n",
       "    </tr>\n",
       "    <tr>\n",
       "      <th>8</th>\n",
       "      <td>0</td>\n",
       "      <td>libguides</td>\n",
       "    </tr>\n",
       "    <tr>\n",
       "      <th>9</th>\n",
       "      <td>171520</td>\n",
       "      <td>other</td>\n",
       "    </tr>\n",
       "    <tr>\n",
       "      <th>10</th>\n",
       "      <td>1064560</td>\n",
       "      <td>paratext</td>\n",
       "    </tr>\n",
       "    <tr>\n",
       "      <th>11</th>\n",
       "      <td>32998</td>\n",
       "      <td>preprint</td>\n",
       "    </tr>\n",
       "    <tr>\n",
       "      <th>12</th>\n",
       "      <td>282122</td>\n",
       "      <td>reference-entry</td>\n",
       "    </tr>\n",
       "    <tr>\n",
       "      <th>13</th>\n",
       "      <td>3461</td>\n",
       "      <td>report</td>\n",
       "    </tr>\n",
       "    <tr>\n",
       "      <th>14</th>\n",
       "      <td>16403</td>\n",
       "      <td>retraction</td>\n",
       "    </tr>\n",
       "    <tr>\n",
       "      <th>15</th>\n",
       "      <td>1748196</td>\n",
       "      <td>review</td>\n",
       "    </tr>\n",
       "    <tr>\n",
       "      <th>16</th>\n",
       "      <td>57</td>\n",
       "      <td>supplementary-materials</td>\n",
       "    </tr>\n",
       "  </tbody>\n",
       "</table>\n",
       "</div>"
      ],
      "text/plain": [
       "           n                     type\n",
       "0   40949987                  article\n",
       "1      14668                     book\n",
       "2      28672             book-chapter\n",
       "3      87000                  dataset\n",
       "4        596             dissertation\n",
       "5     267800                editorial\n",
       "6     186234                  erratum\n",
       "7     615810                   letter\n",
       "8          0                libguides\n",
       "9     171520                    other\n",
       "10   1064560                 paratext\n",
       "11     32998                 preprint\n",
       "12    282122          reference-entry\n",
       "13      3461                   report\n",
       "14     16403               retraction\n",
       "15   1748196                   review\n",
       "16        57  supplementary-materials"
      ]
     },
     "execution_count": 7,
     "metadata": {},
     "output_type": "execute_result"
    }
   ],
   "source": [
    "oal_types"
   ]
  },
  {
   "cell_type": "code",
   "execution_count": 8,
   "id": "cba8e305-1da1-4e79-b3f7-01332c57c883",
   "metadata": {},
   "outputs": [
    {
     "data": {
      "text/plain": [
       "45470084"
      ]
     },
     "execution_count": 8,
     "metadata": {},
     "output_type": "execute_result"
    }
   ],
   "source": [
    "oal_types.n.sum()"
   ]
  },
  {
   "cell_type": "code",
   "execution_count": 11,
   "id": "3e0b1c6e-1a6c-4aaf-b45b-df2409ba10e2",
   "metadata": {},
   "outputs": [
    {
     "data": {
      "text/plain": [
       "0    40949987\n",
       "Name: n, dtype: int64"
      ]
     },
     "execution_count": 11,
     "metadata": {},
     "output_type": "execute_result"
    }
   ],
   "source": [
    "oal_types[oal_types.type=='article'].n"
   ]
  },
  {
   "cell_type": "code",
   "execution_count": 12,
   "id": "eac74471-83c6-47b5-8088-f96e3419cc69",
   "metadata": {},
   "outputs": [
    {
     "data": {
      "text/plain": [
       "15    1748196\n",
       "Name: n, dtype: int64"
      ]
     },
     "execution_count": 12,
     "metadata": {},
     "output_type": "execute_result"
    }
   ],
   "source": [
    "oal_types[oal_types.type=='review'].n"
   ]
  },
  {
   "cell_type": "code",
   "execution_count": 14,
   "id": "3dadf5b0-531f-4245-b9d8-ece1773c7577",
   "metadata": {},
   "outputs": [
    {
     "data": {
      "text/plain": [
       "0.9390390173899833"
      ]
     },
     "execution_count": 14,
     "metadata": {},
     "output_type": "execute_result"
    }
   ],
   "source": [
    "(40949987 + 1748196) / 45470084"
   ]
  },
  {
   "cell_type": "code",
   "execution_count": 5,
   "id": "aa454117-3a7f-4fc2-8cd6-ba38822d5607",
   "metadata": {},
   "outputs": [],
   "source": [
    "oal_s_types = pd.read_sql(\"\"\"\n",
    "                        SELECT COUNT(DISTINCT(oal.doi)) AS n\n",
    "                        FROM fiz_openalex_rep_20240831_openbib.works AS oal\n",
    "                        LEFT JOIN fiz_openalex_rep_20240831_openbib.works_primary_locations AS pl\n",
    "                            ON LOWER(oal.id) = LOWER(pl.work_id)\n",
    "                        WHERE oal.publication_year BETWEEN 2014 AND 2023 AND pl.source_id IS NULL\n",
    "                        \"\"\", \n",
    "                        con=engine)"
   ]
  },
  {
   "cell_type": "code",
   "execution_count": 6,
   "id": "221f0238-c648-42fc-a1c3-73eccdef8da0",
   "metadata": {},
   "outputs": [
    {
     "data": {
      "text/html": [
       "<div>\n",
       "<style scoped>\n",
       "    .dataframe tbody tr th:only-of-type {\n",
       "        vertical-align: middle;\n",
       "    }\n",
       "\n",
       "    .dataframe tbody tr th {\n",
       "        vertical-align: top;\n",
       "    }\n",
       "\n",
       "    .dataframe thead th {\n",
       "        text-align: right;\n",
       "    }\n",
       "</style>\n",
       "<table border=\"1\" class=\"dataframe\">\n",
       "  <thead>\n",
       "    <tr style=\"text-align: right;\">\n",
       "      <th></th>\n",
       "      <th>n</th>\n",
       "    </tr>\n",
       "  </thead>\n",
       "  <tbody>\n",
       "    <tr>\n",
       "      <th>0</th>\n",
       "      <td>8445541</td>\n",
       "    </tr>\n",
       "  </tbody>\n",
       "</table>\n",
       "</div>"
      ],
      "text/plain": [
       "         n\n",
       "0  8445541"
      ]
     },
     "execution_count": 6,
     "metadata": {},
     "output_type": "execute_result"
    }
   ],
   "source": [
    "oal_s_types"
   ]
  },
  {
   "cell_type": "code",
   "execution_count": null,
   "id": "a28024b1-3dbb-4fc4-9514-74e9c4d86fa1",
   "metadata": {},
   "outputs": [],
   "source": [
    "oal_filter = pd.read_sql(\"\"\"\n",
    "                        SELECT COUNT(DISTINCT(oal.doi)) AS n\n",
    "                        FROM kb_project_openbib.classification_article_reviews_2014_2024_august24 AS dt\n",
    "                        JOIN fiz_openalex_rep_20240831_openbib.works AS oal\n",
    "                            ON LOWER(TRIM('https://doi.org/' from oal.doi)) = LOWER(dt.doi)\n",
    "                        JOIN fiz_openalex_rep_20240831_openbib.works_biblio AS biblio\n",
    "                        \tON LOWER(biblio.work_id) = LOWER(TRIM('https://openalex.org/' FROM dt.openalex_id))\n",
    "                        WHERE LOWER(issue) LIKE '%%sup%%' OR LOWER(issue) LIKE '%%meet%%' \n",
    "                            AND oal.publication_year BETWEEN 2014 AND 2023\n",
    "                        \"\"\", \n",
    "                        con=engine)"
   ]
  },
  {
   "cell_type": "code",
   "execution_count": null,
   "id": "13097254-b938-4767-9fe4-f485cb7401ba",
   "metadata": {},
   "outputs": [],
   "source": [
    "oal_filter"
   ]
  },
  {
   "cell_type": "code",
   "execution_count": null,
   "id": "ed4b041d-d040-4e76-a751-3df7ca89cabf",
   "metadata": {},
   "outputs": [],
   "source": []
  }
 ],
 "metadata": {
  "kernelspec": {
   "display_name": "Python 3 (ipykernel)",
   "language": "python",
   "name": "python3"
  },
  "language_info": {
   "codemirror_mode": {
    "name": "ipython",
    "version": 3
   },
   "file_extension": ".py",
   "mimetype": "text/x-python",
   "name": "python",
   "nbconvert_exporter": "python",
   "pygments_lexer": "ipython3",
   "version": "3.11.10"
  }
 },
 "nbformat": 4,
 "nbformat_minor": 5
}
