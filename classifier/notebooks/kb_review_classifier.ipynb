{
 "cells": [
  {
   "cell_type": "code",
   "execution_count": 2,
   "id": "34c25848-f79d-4a61-bfd5-bfaa55f4c8b2",
   "metadata": {},
   "outputs": [],
   "source": [
    "import pandas as pd\n",
    "import matplotlib.pyplot as plt\n",
    "import matplotlib.dates as mdates\n",
    "import matplotlib.ticker as mtick\n",
    "import matplotlib.patches as mpatches\n",
    "from matplotlib.lines import Line2D\n",
    "import seaborn as sns\n",
    "import matplotlib.image as mpimg\n",
    "import os\n",
    "from sqlalchemy import create_engine"
   ]
  },
  {
   "cell_type": "code",
   "execution_count": 3,
   "id": "99e50b6d-838f-40fa-9eef-c956083baaec",
   "metadata": {},
   "outputs": [],
   "source": [
    "sns.set_style('whitegrid')\n",
    "plt.rc('font', family='Arial')\n",
    "plt.rc('font', size=9) \n",
    "plt.rc('axes', titlesize=9) \n",
    "plt.rc('axes', labelsize=9) \n",
    "plt.rc('xtick', labelsize=9) \n",
    "plt.rc('ytick', labelsize=9) \n",
    "plt.rc('legend', fontsize=9)"
   ]
  },
  {
   "cell_type": "code",
   "execution_count": 4,
   "id": "4b8fcd1c-8167-4c21-b199-cb89275754b6",
   "metadata": {},
   "outputs": [],
   "source": [
    "host = os.environ['KB_HOST']\n",
    "database = os.environ['KB_DATABASE']\n",
    "user = os.environ['KB_USER']\n",
    "pw = os.environ['KB_PASSWORD']\n",
    "port = os.environ['KB_PORT']\n",
    "engine = create_engine(f'postgresql://{user}:{pw}@{host}:{port}/{database}')"
   ]
  },
  {
   "cell_type": "code",
   "execution_count": 6,
   "id": "eeab6c50-42e0-49ac-828e-925661632b39",
   "metadata": {},
   "outputs": [],
   "source": [
    "scp_cla_n = pd.read_sql(\"\"\"\n",
    "                        SELECT COUNT(DISTINCT(dt.doi)) AS n, is_research\n",
    "                        FROM  kb_project_openbib.classification_article_reviews_october_2024 AS dt\n",
    "                        JOIN scp_b_202407.items scp\n",
    "                            ON LOWER(dt.doi) = LOWER(scp.doi)\n",
    "                        WHERE ('Article' = ANY(item_type) OR 'Review' = ANY(item_type)) AND (scp.pubyear BETWEEN 2012 AND 2021)\n",
    "                        GROUP BY is_research\n",
    "                        \"\"\", \n",
    "                        con=engine)"
   ]
  },
  {
   "cell_type": "code",
   "execution_count": 8,
   "id": "7ad4486d-aaf6-4f97-8682-db97c634e5ac",
   "metadata": {},
   "outputs": [
    {
     "data": {
      "text/plain": [
       "0    0.01161\n",
       "Name: n, dtype: float64"
      ]
     },
     "execution_count": 8,
     "metadata": {},
     "output_type": "execute_result"
    }
   ],
   "source": [
    "scp_cla_n[scp_cla_n['is_research'] == False].n / scp_cla_n.n.sum()"
   ]
  },
  {
   "cell_type": "code",
   "execution_count": 18,
   "id": "6ded9b23-1deb-464e-a4a7-c0af9b7e5d32",
   "metadata": {},
   "outputs": [],
   "source": [
    "scp_cla_a_n = pd.read_sql(\"\"\"\n",
    "                          SELECT COUNT(DISTINCT(dt.doi)) AS n, is_research\n",
    "                          FROM  kb_project_openbib.classification_article_reviews_october_2024 AS dt\n",
    "                          JOIN scp_b_202407.items scp\n",
    "                              ON LOWER(dt.doi) = LOWER(scp.doi)\n",
    "                          WHERE 'Article' = ANY(item_type) AND scp.pubyear BETWEEN 2012 AND 2021\n",
    "                          GROUP BY is_research\n",
    "                          \"\"\", \n",
    "                          con=engine)"
   ]
  },
  {
   "cell_type": "code",
   "execution_count": 19,
   "id": "18ca95b2-09f4-44e9-9ade-7f701f301a9a",
   "metadata": {},
   "outputs": [
    {
     "data": {
      "text/plain": [
       "0    0.010532\n",
       "Name: n, dtype: float64"
      ]
     },
     "execution_count": 19,
     "metadata": {},
     "output_type": "execute_result"
    }
   ],
   "source": [
    "scp_cla_a_n[scp_cla_a_n['is_research'] == False].n / scp_cla_n.n.sum()"
   ]
  },
  {
   "cell_type": "code",
   "execution_count": 16,
   "id": "3a423372-0e66-4590-9db0-ff89d3018fe0",
   "metadata": {},
   "outputs": [],
   "source": [
    "scp_cla_r_n = pd.read_sql(\"\"\"\n",
    "                          SELECT COUNT(DISTINCT(dt.doi)) AS n, is_research\n",
    "                          FROM  kb_project_openbib.classification_article_reviews_october_2024 AS dt\n",
    "                          JOIN scp_b_202407.items scp\n",
    "                              ON LOWER(dt.doi) = LOWER(scp.doi)\n",
    "                          WHERE 'Review' = ANY(item_type) AND scp.pubyear BETWEEN 2012 AND 2021\n",
    "                          GROUP BY is_research\n",
    "                          \"\"\", \n",
    "                          con=engine)"
   ]
  },
  {
   "cell_type": "code",
   "execution_count": 17,
   "id": "c0c10b42-09c7-4832-96be-f71aea30fd27",
   "metadata": {},
   "outputs": [
    {
     "data": {
      "text/plain": [
       "0    0.00108\n",
       "Name: n, dtype: float64"
      ]
     },
     "execution_count": 17,
     "metadata": {},
     "output_type": "execute_result"
    }
   ],
   "source": [
    "scp_cla_r_n[scp_cla_r_n['is_research'] == False].n / scp_cla_n.n.sum()"
   ]
  },
  {
   "cell_type": "code",
   "execution_count": 20,
   "id": "6ae7a728-5aae-4467-8207-e6d71f84a887",
   "metadata": {},
   "outputs": [
    {
     "data": {
      "text/plain": [
       "0    231420\n",
       "Name: n, dtype: int64"
      ]
     },
     "execution_count": 20,
     "metadata": {},
     "output_type": "execute_result"
    }
   ],
   "source": [
    "scp_cla_n[scp_cla_n['is_research'] == False].n"
   ]
  },
  {
   "cell_type": "code",
   "execution_count": 21,
   "id": "b9fa5bc6-8c86-44c9-b62c-f5c4b091a1c0",
   "metadata": {},
   "outputs": [
    {
     "data": {
      "text/plain": [
       "19933320"
      ]
     },
     "execution_count": 21,
     "metadata": {},
     "output_type": "execute_result"
    }
   ],
   "source": [
    "scp_cla_n.n.sum()"
   ]
  },
  {
   "cell_type": "code",
   "execution_count": 24,
   "id": "79b35236-e724-4d56-a771-768da18caa86",
   "metadata": {},
   "outputs": [],
   "source": [
    "df_doi_2012_2021 = pd.read_sql(\"\"\"\n",
    "                               SELECT COUNT(DISTINCT(oal.doi)) AS n, is_research\n",
    "                               FROM kb_project_openbib.classification_article_reviews_october_2024 AS dt\n",
    "                               JOIN fiz_openalex_bdb_20240831_openbib.items AS oal\n",
    "                                   ON oal.doi = dt.doi\n",
    "                               WHERE oal.pubyear BETWEEN 2012 AND 2021\n",
    "                               GROUP BY is_research\n",
    "                               \"\"\",\n",
    "                               con=engine)"
   ]
  },
  {
   "cell_type": "code",
   "execution_count": 27,
   "id": "84607b9f-f59c-4cd4-aa58-3a37f8691bf2",
   "metadata": {},
   "outputs": [
    {
     "data": {
      "text/plain": [
       "0    0.096226\n",
       "Name: n, dtype: float64"
      ]
     },
     "execution_count": 27,
     "metadata": {},
     "output_type": "execute_result"
    }
   ],
   "source": [
    "df_doi_2012_2021[df_doi_2012_2021['is_research'] == False].n / df_doi_2012_2021.n.sum()"
   ]
  },
  {
   "cell_type": "code",
   "execution_count": 26,
   "id": "86873740-4ee9-4f47-95a7-4efa1005c220",
   "metadata": {},
   "outputs": [],
   "source": [
    "df_doi_2012_2021_a = pd.read_sql(\"\"\"\n",
    "                                 SELECT COUNT(DISTINCT(oal.doi)) AS n, is_research\n",
    "                                 FROM kb_project_openbib.classification_article_reviews_october_2024 AS dt\n",
    "                                 JOIN fiz_openalex_bdb_20240831_openbib.items AS oal\n",
    "                                     ON oal.doi = dt.doi\n",
    "                                 WHERE 'article' = ANY(item_type) AND oal.pubyear BETWEEN 2012 AND 2021\n",
    "                                 GROUP BY is_research\n",
    "                                 \"\"\",\n",
    "                                 con=engine)"
   ]
  },
  {
   "cell_type": "code",
   "execution_count": 31,
   "id": "a32d585d-5487-40e9-a1eb-7c120881877f",
   "metadata": {},
   "outputs": [
    {
     "data": {
      "text/plain": [
       "0    0.095279\n",
       "Name: n, dtype: float64"
      ]
     },
     "execution_count": 31,
     "metadata": {},
     "output_type": "execute_result"
    }
   ],
   "source": [
    "df_doi_2012_2021_a[df_doi_2012_2021_a['is_research'] == False].n / df_doi_2012_2021.n.sum()"
   ]
  },
  {
   "cell_type": "code",
   "execution_count": 29,
   "id": "252c57c9-f2ca-4997-81a5-cf5266ab93cc",
   "metadata": {},
   "outputs": [],
   "source": [
    "df_doi_2012_2021_r = pd.read_sql(\"\"\"\n",
    "                                 SELECT COUNT(DISTINCT(oal.doi)) AS n, is_research\n",
    "                                 FROM kb_project_openbib.classification_article_reviews_october_2024 AS dt\n",
    "                                 JOIN fiz_openalex_bdb_20240831_openbib.items AS oal\n",
    "                                     ON oal.doi = dt.doi\n",
    "                                 WHERE 'review' = ANY(item_type) AND oal.pubyear BETWEEN 2012 AND 2021\n",
    "                                 GROUP BY is_research\n",
    "                                 \"\"\",\n",
    "                                 con=engine)"
   ]
  },
  {
   "cell_type": "code",
   "execution_count": 32,
   "id": "71108e31-84b0-48a4-ad6c-a39ad5621ec1",
   "metadata": {},
   "outputs": [
    {
     "data": {
      "text/plain": [
       "0    0.000938\n",
       "Name: n, dtype: float64"
      ]
     },
     "execution_count": 32,
     "metadata": {},
     "output_type": "execute_result"
    }
   ],
   "source": [
    "df_doi_2012_2021_r[df_doi_2012_2021_r['is_research'] == False].n / df_doi_2012_2021.n.sum()"
   ]
  },
  {
   "cell_type": "code",
   "execution_count": 19,
   "id": "3da80ea2-0827-4924-a02f-83b9b17c5dc9",
   "metadata": {},
   "outputs": [],
   "source": [
    "df = pd.read_csv('./../datasets/classifier_sample_evaluated.csv', sep=';')"
   ]
  },
  {
   "cell_type": "code",
   "execution_count": 20,
   "id": "5693b9c2-26a1-4d3f-8dd0-1cacf1e4f8b8",
   "metadata": {},
   "outputs": [
    {
     "data": {
      "text/plain": [
       "validation\n",
       "True       0.736\n",
       "unknown    0.222\n",
       "False      0.042\n",
       "Name: proportion, dtype: float64"
      ]
     },
     "execution_count": 20,
     "metadata": {},
     "output_type": "execute_result"
    }
   ],
   "source": [
    "df['validation'].value_counts(normalize=True)"
   ]
  },
  {
   "cell_type": "code",
   "execution_count": 22,
   "id": "870dbc8f-4a6c-463c-a339-72cbeaa3bf09",
   "metadata": {},
   "outputs": [
    {
     "name": "stdout",
     "output_type": "stream",
     "text": [
      "comment\n",
      "not found                            207\n",
      "?                                    139\n",
      "abstract                              80\n",
      "paratext                              62\n",
      "paywall                               62\n",
      "book review                           48\n",
      "not loading                           37\n",
      "case report                           37\n",
      "news                                  27\n",
      "conference                            22\n",
      "no fulltext found                     22\n",
      "article                               21\n",
      "no document provided                  18\n",
      "comment                               15\n",
      "editorial                             14\n",
      "note                                  12\n",
      "no document found                     11\n",
      "article?                              11\n",
      "case study                             8\n",
      "letter to the editor                   8\n",
      "paratext?                              7\n",
      "abstract?                              6\n",
      "interview                              5\n",
      "meeting abstract                       4\n",
      "note?                                  4\n",
      "digital copy                           4\n",
      "letter                                 4\n",
      "medical                                4\n",
      "not correctly linked                   3\n",
      "errata                                 3\n",
      "news?                                  3\n",
      "probably article                       3\n",
      "probably not an article                3\n",
      "document not found                     3\n",
      "correction                             3\n",
      "comment?                               3\n",
      "book review?                           3\n",
      "empty document                         2\n",
      "review                                 2\n",
      "poster abstract                        2\n",
      "technical report                       2\n",
      "empty html page                        2\n",
      "research letter                        2\n",
      "not research                           2\n",
      "probably paratext                      2\n",
      "miscellany                             2\n",
      "proceedings                            2\n",
      "meeting report                         2\n",
      "questions                              1\n",
      "? medical                              1\n",
      "diary                                  1\n",
      "summary                                1\n",
      "appendix                               1\n",
      "supplement                             1\n",
      "paywall, probably not an article       1\n",
      "probably research                      1\n",
      "essay                                  1\n",
      "technical information                  1\n",
      "medical images                         1\n",
      "call for papers                        1\n",
      "paywall, probably not research         1\n",
      "brief article?                         1\n",
      "supplement?                            1\n",
      "probably cartoon                       1\n",
      "resolution                             1\n",
      "rules                                  1\n",
      "not found, probably editorial?         1\n",
      "need login                             1\n",
      "opinion                                1\n",
      "case report?                           1\n",
      "preprint?                              1\n",
      "probably abstract                      1\n",
      "no fulltext provided                   1\n",
      "paywall, title                         1\n",
      "poem                                   1\n",
      "editorial board                        1\n",
      "information for authors                1\n",
      "table                                  1\n",
      "paywall, title                         1\n",
      "conference abstract                    1\n",
      "could be article                       1\n",
      "law article                            1\n",
      "internship report                      1\n",
      "court decision                         1\n",
      "randomised trial                       1\n",
      "wrong website linked                   1\n",
      "article, however not very neutral      1\n",
      "front matter                           1\n",
      "withdrawn                              1\n",
      "probably news                          1\n",
      "guideline                              1\n",
      "clinical                               1\n",
      "patent                                 1\n",
      "editorial?                             1\n",
      "video                                  1\n",
      "correspondence                         1\n",
      "annotations                            1\n",
      "report                                 1\n",
      "master thesis                          1\n",
      "meeting                                1\n",
      "Name: count, dtype: int64\n"
     ]
    }
   ],
   "source": [
    "with pd.option_context('display.max_rows', None):\n",
    "    print(df['comment'].value_counts())"
   ]
  },
  {
   "cell_type": "code",
   "execution_count": null,
   "id": "501ce7ae-f2bb-4731-9a23-5b11bcc9ca69",
   "metadata": {},
   "outputs": [],
   "source": []
  }
 ],
 "metadata": {
  "kernelspec": {
   "display_name": "Python 3 (ipykernel)",
   "language": "python",
   "name": "python3"
  },
  "language_info": {
   "codemirror_mode": {
    "name": "ipython",
    "version": 3
   },
   "file_extension": ".py",
   "mimetype": "text/x-python",
   "name": "python",
   "nbconvert_exporter": "python",
   "pygments_lexer": "ipython3",
   "version": "3.11.10"
  }
 },
 "nbformat": 4,
 "nbformat_minor": 5
}
