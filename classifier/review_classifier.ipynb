{
 "cells": [
  {
   "cell_type": "code",
   "execution_count": 1,
   "id": "bd884af1-ec03-4162-b7b8-82def7c85066",
   "metadata": {},
   "outputs": [],
   "source": [
    "from google.cloud import bigquery\n",
    "import pandas as pd\n",
    "import matplotlib.pyplot as plt\n",
    "import matplotlib.dates as mdates\n",
    "import matplotlib.ticker as mtick\n",
    "import matplotlib.patches as mpatches\n",
    "from matplotlib.lines import Line2D\n",
    "import seaborn as sns\n",
    "import os\n",
    "from sqlalchemy import create_engine"
   ]
  },
  {
   "cell_type": "code",
   "execution_count": 2,
   "id": "954fb76d-6a9d-4521-a1f6-ee9b429815f7",
   "metadata": {},
   "outputs": [],
   "source": [
    "client = bigquery.Client(project='subugoe-wag-closed')"
   ]
  },
  {
   "cell_type": "code",
   "execution_count": 3,
   "id": "e27ee3e3-63eb-4e4a-a6a6-0595e4091822",
   "metadata": {},
   "outputs": [],
   "source": [
    "openalex_snapshot = 'subugoe-collaborative.openalex.works'\n",
    "openalex_sources = 'subugoe-collaborative.openalex.sources'\n",
    "document_type_snapshot = 'subugoe-wag-closed.oal_doctypes.classification_article_reviews_august_2024'\n",
    "cwts_snapshot = 'subugoe-wag-closed.cwts_2023.pub'\n",
    "pubmed_snapshot = 'subugoe-wag-closed.pubmed.pubmed_bulk_dec_2022'\n",
    "pubmed_hierarchy = 'subugoe-wag-closed.pubmed.pubmed_hierarchy'"
   ]
  },
  {
   "cell_type": "code",
   "execution_count": 4,
   "id": "7652bf84-e01e-4fff-92e4-9ef118c609c7",
   "metadata": {},
   "outputs": [],
   "source": [
    "sns.set_style('whitegrid')\n",
    "plt.rc('font', family='Arial')\n",
    "plt.rc('font', size=9) \n",
    "plt.rc('axes', titlesize=9) \n",
    "plt.rc('axes', labelsize=9) \n",
    "plt.rc('xtick', labelsize=9) \n",
    "plt.rc('ytick', labelsize=9) \n",
    "plt.rc('legend', fontsize=9)"
   ]
  },
  {
   "cell_type": "code",
   "execution_count": 5,
   "id": "fa237c1c-1caa-4183-8a94-1cc9d31eb428",
   "metadata": {},
   "outputs": [],
   "source": [
    "df_doi = client.query(f\"\"\"\n",
    "                       SELECT COUNT(DISTINCT(oal.doi)) AS n, label\n",
    "                       FROM {openalex_snapshot} AS oal\n",
    "                       JOIN {document_type_snapshot} AS dt\n",
    "                           ON oal.doi = dt.doi\n",
    "                       GROUP BY label\n",
    "                       \"\"\").to_dataframe()"
   ]
  },
  {
   "cell_type": "code",
   "execution_count": 6,
   "id": "b09db80e-0495-4342-9ce3-8bff37662420",
   "metadata": {},
   "outputs": [
    {
     "data": {
      "text/plain": [
       "0    0.116721\n",
       "Name: n, dtype: Float64"
      ]
     },
     "execution_count": 6,
     "metadata": {},
     "output_type": "execute_result"
    }
   ],
   "source": [
    "df_doi[df_doi['label'] == 'editorial_discourse'].n / df_doi.n.sum()"
   ]
  },
  {
   "cell_type": "code",
   "execution_count": 7,
   "id": "d353f111-05da-4f83-939b-09498951cf76",
   "metadata": {},
   "outputs": [],
   "source": [
    "df_doi_2012_2021 = client.query(f\"\"\"\n",
    "                                 SELECT COUNT(DISTINCT(oal.doi)) AS n, label\n",
    "                                 FROM {openalex_snapshot} AS oal\n",
    "                                 JOIN {document_type_snapshot} AS dt\n",
    "                                     ON oal.doi = dt.doi\n",
    "                                 WHERE publication_year BETWEEN 2012 AND 2021\n",
    "                                 GROUP BY label\n",
    "                                 \"\"\").to_dataframe()"
   ]
  },
  {
   "cell_type": "code",
   "execution_count": 8,
   "id": "e5c64dc9-1e7d-426a-8bae-c9a2f3803c36",
   "metadata": {},
   "outputs": [
    {
     "data": {
      "text/plain": [
       "0    0.099439\n",
       "Name: n, dtype: Float64"
      ]
     },
     "execution_count": 8,
     "metadata": {},
     "output_type": "execute_result"
    }
   ],
   "source": [
    "df_doi_2012_2021[df_doi_2012_2021['label'] == 'editorial_discourse'].n / df_doi_2012_2021.n.sum()"
   ]
  },
  {
   "cell_type": "code",
   "execution_count": 9,
   "id": "d3a66907-b663-4c71-a758-871abe024bbf",
   "metadata": {},
   "outputs": [],
   "source": [
    "df_cwts_2012_2021 = client.query(f\"\"\"\n",
    "                                  SELECT COUNT(DISTINCT(cwts.doi)) AS n, 'research_discourse' AS label\n",
    "                                  FROM {openalex_snapshot} AS oal\n",
    "                                  LEFT JOIN {cwts_snapshot} AS cwts\n",
    "                                      ON oal.doi = cwts.doi\n",
    "                                  WHERE primary_location.source.type = 'journal' AND publication_year BETWEEN 2012 AND 2021 \n",
    "                                  \"\"\").to_dataframe()"
   ]
  },
  {
   "cell_type": "code",
   "execution_count": 10,
   "id": "b940ebcf-e92d-450f-b7da-dca1c2b5414a",
   "metadata": {},
   "outputs": [],
   "source": [
    "df_oal_2012_2021 = client.query(f\"\"\"\n",
    "                                  SELECT COUNT(DISTINCT(oal.doi)) AS n\n",
    "                                  FROM {openalex_snapshot} AS oal\n",
    "                                  WHERE primary_location.source.type = 'journal' AND publication_year BETWEEN 2012 AND 2021\n",
    "                                  \"\"\").to_dataframe()"
   ]
  },
  {
   "cell_type": "code",
   "execution_count": 11,
   "id": "82af28b8-f783-4e3e-9f57-00e68101c1b9",
   "metadata": {},
   "outputs": [
    {
     "data": {
      "text/plain": [
       "0    0.458506\n",
       "Name: n, dtype: Float64"
      ]
     },
     "execution_count": 11,
     "metadata": {},
     "output_type": "execute_result"
    }
   ],
   "source": [
    "df_cwts_2012_2021.n / df_oal_2012_2021.n"
   ]
  },
  {
   "cell_type": "code",
   "execution_count": 12,
   "id": "6e7d4a33-7d0d-4904-90b7-3c359da9adf0",
   "metadata": {},
   "outputs": [
    {
     "data": {
      "text/plain": [
       "0.5414939999999999"
      ]
     },
     "execution_count": 12,
     "metadata": {},
     "output_type": "execute_result"
    }
   ],
   "source": [
    "1 - 0.458506"
   ]
  },
  {
   "cell_type": "code",
   "execution_count": 16,
   "id": "3fba8a2d-bd47-4092-9046-8252c43c2051",
   "metadata": {},
   "outputs": [],
   "source": [
    "df_doi_cwts_2012_2022 = client.query(f\"\"\"\n",
    "                                      SELECT COUNT(DISTINCT(oal.doi)) AS n, label\n",
    "                                      FROM {openalex_snapshot} AS oal\n",
    "                                      JOIN {document_type_snapshot} AS dt\n",
    "                                          ON oal.doi = dt.doi\n",
    "                                      JOIN {cwts_snapshot} AS cwts\n",
    "                                          ON oal.doi = cwts.doi\n",
    "                                      WHERE publication_year BETWEEN 2012 AND 2021\n",
    "                                      GROUP BY label\n",
    "                                      \"\"\").to_dataframe()"
   ]
  },
  {
   "cell_type": "code",
   "execution_count": 17,
   "id": "0db5eccf-d5e9-402e-b05d-b7f7e88ed372",
   "metadata": {},
   "outputs": [
    {
     "data": {
      "text/plain": [
       "1    0.011498\n",
       "Name: n, dtype: Float64"
      ]
     },
     "execution_count": 17,
     "metadata": {},
     "output_type": "execute_result"
    }
   ],
   "source": [
    "df_doi_cwts_2012_2022[df_doi_cwts_2012_2022['label'] == 'editorial_discourse'].n / df_doi_cwts_2012_2022.n.sum()"
   ]
  },
  {
   "cell_type": "code",
   "execution_count": 25,
   "id": "e16e5525-2e0f-4065-adbc-40af74d981e8",
   "metadata": {},
   "outputs": [],
   "source": [
    "df_cwts_2012_2021 = client.query(f\"\"\"\n",
    "                                  SELECT COUNT(DISTINCT(cwts.doi)) AS n, 'research_discourse' AS label, publication_year\n",
    "                                  FROM {openalex_snapshot} AS oal\n",
    "                                  LEFT JOIN {cwts_snapshot} AS cwts\n",
    "                                      ON oal.doi = cwts.doi\n",
    "                                  WHERE primary_location.source.type = 'journal' AND publication_year BETWEEN 2012 AND 2021 \n",
    "                                  GROUP BY publication_year, label\n",
    "                                  ORDER BY publication_year DESC\n",
    "                                  \"\"\").to_dataframe()"
   ]
  },
  {
   "cell_type": "code",
   "execution_count": 26,
   "id": "2a9adb9a-9799-4d17-b45a-1320a1414967",
   "metadata": {},
   "outputs": [],
   "source": [
    "df_doi_2012_2021 = client.query(f\"\"\"\n",
    "                                 SELECT COUNT(DISTINCT(oal.doi)) AS n, label, publication_year\n",
    "                                 FROM {openalex_snapshot} AS oal\n",
    "                                 JOIN {document_type_snapshot} AS dt\n",
    "                                     ON oal.doi = dt.doi\n",
    "                                 WHERE publication_year BETWEEN 2012 AND 2021 AND label = 'research_discourse'\n",
    "                                 GROUP BY publication_year, label\n",
    "                                 ORDER BY publication_year DESC\n",
    "                                 \"\"\").to_dataframe()"
   ]
  },
  {
   "cell_type": "code",
   "execution_count": 27,
   "id": "5ef54ce0-c57b-4c8c-8f60-d7270ee19542",
   "metadata": {},
   "outputs": [],
   "source": [
    "df_oal_2012_2021 = client.query(f\"\"\"\n",
    "                                 SELECT COUNT(DISTINCT(oal.doi)) AS total_n, publication_year\n",
    "                                 FROM {openalex_snapshot} AS oal\n",
    "                                 WHERE primary_location.source.type = 'journal' AND publication_year BETWEEN 2012 AND 2021\n",
    "                                     AND type IN ('article', 'review')\n",
    "                                 GROUP BY publication_year\n",
    "                                 ORDER BY publication_year DESC\n",
    "                                 \"\"\").to_dataframe()"
   ]
  },
  {
   "cell_type": "code",
   "execution_count": 154,
   "id": "50a62b54-d2b2-4946-8ae6-eae89482dff1",
   "metadata": {},
   "outputs": [],
   "source": [
    "df_oal_2012_2021_baseline = client.query(f\"\"\"\n",
    "                                 SELECT COUNT(DISTINCT(oal.doi)) AS n, publication_year\n",
    "                                 FROM {openalex_snapshot} AS oal\n",
    "                                 WHERE primary_location.source.type = 'journal' AND publication_year BETWEEN 2012 AND 2021\n",
    "                                     AND ARRAY_LENGTH(referenced_works) != 0 AND cited_by_count != 0\n",
    "                                 GROUP BY publication_year\n",
    "                                 ORDER BY publication_year DESC\n",
    "                                 \"\"\").to_dataframe()"
   ]
  },
  {
   "cell_type": "code",
   "execution_count": 155,
   "id": "014f0e46-757a-4fcb-a34d-4fd0c6ae1352",
   "metadata": {},
   "outputs": [
    {
     "data": {
      "image/png": "[encoded data removed]",
      "text/plain": [
       "<Figure size 600x450 with 1 Axes>"
      ]
     },
     "metadata": {},
     "output_type": "display_data"
    }
   ],
   "source": [
    "fig, ax = plt.subplots(figsize=(6,4.5))\n",
    "plt.box(False)\n",
    "\n",
    "sns.lineplot(data=df_doi_2012_2021,\n",
    "             x='publication_year',\n",
    "             y='n',\n",
    "             color='#fc5185',\n",
    "             marker='o',\n",
    "             ax=ax)\n",
    "\n",
    "sns.lineplot(data=df_cwts_2012_2021,\n",
    "             x='publication_year',\n",
    "             y='n',\n",
    "             color='#9e0059',\n",
    "             marker='o',\n",
    "             ax=ax)\n",
    "\n",
    "sns.lineplot(data=df_oal_2012_2021,\n",
    "             x='publication_year',\n",
    "             y='total_n',\n",
    "             color='#c3c3c3',\n",
    "             marker='o',\n",
    "             ax=ax)\n",
    "\n",
    "sns.lineplot(data=df_oal_2012_2021_baseline,\n",
    "             x='publication_year',\n",
    "             y='n',\n",
    "             color='green',\n",
    "             marker='o',\n",
    "             ax=ax)\n",
    "\n",
    "ax.yaxis.set_major_formatter(mtick.StrMethodFormatter('{x:,.0f}'))\n",
    "ax.grid(False, which='both', axis='x')\n",
    "ax.set(xlabel='Jahr', ylabel='Items, die als wissenschaftliche Artikel identifiziert werden')\n",
    "\n",
    "clas_patch = Line2D([0], [0], color='#fc5185', label='Classifier')\n",
    "cwts_patch = Line2D([0], [0], color='#9e0059', label='CWTS')\n",
    "oal_patch = Line2D([0], [0], color='#c3c3c3', label='OpenAlex (Artikel und Reviews)')\n",
    "oal_baseline_patch = Line2D([0], [0], color='green', label='OpenAlex (Ref>0, Cit>0)')\n",
    "\n",
    "lgd = fig.legend(handles=[clas_patch, cwts_patch, oal_patch, oal_baseline_patch], frameon=False,\n",
    "                 bbox_to_anchor=(1.4, 0.9), labelspacing=1.1)\n",
    "\n",
    "plt.tight_layout()\n",
    "\n",
    "plt.show()"
   ]
  },
  {
   "cell_type": "code",
   "execution_count": 75,
   "id": "4ad0e5e6-9c97-415c-9eac-ea5bfcc1248f",
   "metadata": {},
   "outputs": [],
   "source": [
    "df_doi_2012_2021_topic = client.query(f\"\"\"\n",
    "                                       SELECT COUNT(DISTINCT(oal.doi)) AS n, label, primary_topic.domain.display_name AS topic\n",
    "                                       FROM {openalex_snapshot} AS oal\n",
    "                                       JOIN {document_type_snapshot} AS dt\n",
    "                                           ON oal.doi = dt.doi\n",
    "                                       WHERE publication_year BETWEEN 2012 AND 2021\n",
    "                                       GROUP BY topic, label\n",
    "                                       \"\"\").to_dataframe()"
   ]
  },
  {
   "cell_type": "code",
   "execution_count": 76,
   "id": "106db410-1aed-4bcd-ad51-e447a35c100f",
   "metadata": {},
   "outputs": [],
   "source": [
    "df_doi_2012_2021_topic = df_doi_2012_2021_topic.fillna(value='No topic assigned')"
   ]
  },
  {
   "cell_type": "code",
   "execution_count": 77,
   "id": "ce93e13d-1be5-44f8-9206-30df2caa8259",
   "metadata": {},
   "outputs": [
    {
     "data": {
      "text/html": [
       "<div>\n",
       "<style scoped>\n",
       "    .dataframe tbody tr th:only-of-type {\n",
       "        vertical-align: middle;\n",
       "    }\n",
       "\n",
       "    .dataframe tbody tr th {\n",
       "        vertical-align: top;\n",
       "    }\n",
       "\n",
       "    .dataframe thead th {\n",
       "        text-align: right;\n",
       "    }\n",
       "</style>\n",
       "<table border=\"1\" class=\"dataframe\">\n",
       "  <thead>\n",
       "    <tr style=\"text-align: right;\">\n",
       "      <th></th>\n",
       "      <th>n</th>\n",
       "      <th>label</th>\n",
       "      <th>topic</th>\n",
       "    </tr>\n",
       "  </thead>\n",
       "  <tbody>\n",
       "    <tr>\n",
       "      <th>0</th>\n",
       "      <td>525865</td>\n",
       "      <td>editorial_discourse</td>\n",
       "      <td>No topic assigned</td>\n",
       "    </tr>\n",
       "    <tr>\n",
       "      <th>1</th>\n",
       "      <td>1030837</td>\n",
       "      <td>editorial_discourse</td>\n",
       "      <td>Social Sciences</td>\n",
       "    </tr>\n",
       "    <tr>\n",
       "      <th>2</th>\n",
       "      <td>4906948</td>\n",
       "      <td>research_discourse</td>\n",
       "      <td>Life Sciences</td>\n",
       "    </tr>\n",
       "    <tr>\n",
       "      <th>3</th>\n",
       "      <td>365258</td>\n",
       "      <td>editorial_discourse</td>\n",
       "      <td>Life Sciences</td>\n",
       "    </tr>\n",
       "    <tr>\n",
       "      <th>4</th>\n",
       "      <td>612559</td>\n",
       "      <td>editorial_discourse</td>\n",
       "      <td>Physical Sciences</td>\n",
       "    </tr>\n",
       "    <tr>\n",
       "      <th>5</th>\n",
       "      <td>8547283</td>\n",
       "      <td>research_discourse</td>\n",
       "      <td>Health Sciences</td>\n",
       "    </tr>\n",
       "    <tr>\n",
       "      <th>6</th>\n",
       "      <td>7563675</td>\n",
       "      <td>research_discourse</td>\n",
       "      <td>Social Sciences</td>\n",
       "    </tr>\n",
       "    <tr>\n",
       "      <th>7</th>\n",
       "      <td>1262385</td>\n",
       "      <td>editorial_discourse</td>\n",
       "      <td>Health Sciences</td>\n",
       "    </tr>\n",
       "    <tr>\n",
       "      <th>8</th>\n",
       "      <td>1363298</td>\n",
       "      <td>research_discourse</td>\n",
       "      <td>No topic assigned</td>\n",
       "    </tr>\n",
       "    <tr>\n",
       "      <th>9</th>\n",
       "      <td>12005246</td>\n",
       "      <td>research_discourse</td>\n",
       "      <td>Physical Sciences</td>\n",
       "    </tr>\n",
       "  </tbody>\n",
       "</table>\n",
       "</div>"
      ],
      "text/plain": [
       "          n                label              topic\n",
       "0    525865  editorial_discourse  No topic assigned\n",
       "1   1030837  editorial_discourse    Social Sciences\n",
       "2   4906948   research_discourse      Life Sciences\n",
       "3    365258  editorial_discourse      Life Sciences\n",
       "4    612559  editorial_discourse  Physical Sciences\n",
       "5   8547283   research_discourse    Health Sciences\n",
       "6   7563675   research_discourse    Social Sciences\n",
       "7   1262385  editorial_discourse    Health Sciences\n",
       "8   1363298   research_discourse  No topic assigned\n",
       "9  12005246   research_discourse  Physical Sciences"
      ]
     },
     "execution_count": 77,
     "metadata": {},
     "output_type": "execute_result"
    }
   ],
   "source": [
    "df_doi_2012_2021_topic"
   ]
  },
  {
   "cell_type": "code",
   "execution_count": 78,
   "id": "bfc78ace-8718-4831-8417-0179eeb2809a",
   "metadata": {},
   "outputs": [
    {
     "data": {
      "image/png": "[encoded data removed]",
      "text/plain": [
       "<Figure size 700x400 with 1 Axes>"
      ]
     },
     "metadata": {},
     "output_type": "display_data"
    }
   ],
   "source": [
    "fig, ax = plt.subplots(figsize=(7,4))\n",
    "plt.box(False)\n",
    "\n",
    "sns.barplot(data=df_doi_2012_2021_topic.groupby(['topic'])['n'].sum().reset_index(), \n",
    "            x='n', \n",
    "            y='topic', \n",
    "            alpha=0.6,\n",
    "            color='#b3b3b3a0',\n",
    "            width=0.5,\n",
    "            saturation=1,\n",
    "            errorbar=None)\n",
    "\n",
    "sns.barplot(data=df_doi_2012_2021_topic[df_doi_2012_2021_topic.label == 'research_discourse'], \n",
    "            x='n', \n",
    "            y='topic', \n",
    "            alpha=1,\n",
    "            color='#f68212',\n",
    "            width=0.5,\n",
    "            saturation=1,\n",
    "            errorbar=None)\n",
    "\n",
    "ax.xaxis.set_major_formatter(mtick.StrMethodFormatter('{x:,.0f}'))\n",
    "\n",
    "ax.set(xlabel='Anzahl an Publikationen', ylabel='Topic')\n",
    "\n",
    "plt.tight_layout()\n",
    "\n",
    "plt.show()"
   ]
  },
  {
   "cell_type": "code",
   "execution_count": 30,
   "id": "4742761f-6bd0-4662-bd7f-bc3b62e0418a",
   "metadata": {},
   "outputs": [],
   "source": [
    "df_doi_2012_2021_oa = client.query(f\"\"\"\n",
    "                                    SELECT COUNT(DISTINCT(oal.doi)) AS n, label, open_access.is_oa AS is_oa\n",
    "                                    FROM {openalex_snapshot} AS oal\n",
    "                                    JOIN {document_type_snapshot} AS dt\n",
    "                                        ON oal.doi = dt.doi\n",
    "                                    WHERE publication_year BETWEEN 2012 AND 2021\n",
    "                                    GROUP BY is_oa, label\n",
    "                                    \"\"\").to_dataframe()"
   ]
  },
  {
   "cell_type": "code",
   "execution_count": 31,
   "id": "ef7d9478-bec6-41d2-b009-87749c8fb655",
   "metadata": {},
   "outputs": [],
   "source": [
    "df_doi_2012_2021_oa['prop'] = df_doi_2012_2021_oa.n / df_doi_2012_2021_oa.n.sum()"
   ]
  },
  {
   "cell_type": "code",
   "execution_count": 32,
   "id": "75793d33-d0ab-4dff-b105-f79e9b9ff364",
   "metadata": {},
   "outputs": [
    {
     "data": {
      "text/html": [
       "<div>\n",
       "<style scoped>\n",
       "    .dataframe tbody tr th:only-of-type {\n",
       "        vertical-align: middle;\n",
       "    }\n",
       "\n",
       "    .dataframe tbody tr th {\n",
       "        vertical-align: top;\n",
       "    }\n",
       "\n",
       "    .dataframe thead th {\n",
       "        text-align: right;\n",
       "    }\n",
       "</style>\n",
       "<table border=\"1\" class=\"dataframe\">\n",
       "  <thead>\n",
       "    <tr style=\"text-align: right;\">\n",
       "      <th></th>\n",
       "      <th>n</th>\n",
       "      <th>label</th>\n",
       "      <th>is_oa</th>\n",
       "      <th>prop</th>\n",
       "    </tr>\n",
       "  </thead>\n",
       "  <tbody>\n",
       "    <tr>\n",
       "      <th>0</th>\n",
       "      <td>17966795</td>\n",
       "      <td>research_discourse</td>\n",
       "      <td>True</td>\n",
       "      <td>0.470543</td>\n",
       "    </tr>\n",
       "    <tr>\n",
       "      <th>1</th>\n",
       "      <td>16419454</td>\n",
       "      <td>research_discourse</td>\n",
       "      <td>False</td>\n",
       "      <td>0.430018</td>\n",
       "    </tr>\n",
       "    <tr>\n",
       "      <th>2</th>\n",
       "      <td>2017094</td>\n",
       "      <td>editorial_discourse</td>\n",
       "      <td>True</td>\n",
       "      <td>0.052827</td>\n",
       "    </tr>\n",
       "    <tr>\n",
       "      <th>3</th>\n",
       "      <td>1779794</td>\n",
       "      <td>editorial_discourse</td>\n",
       "      <td>False</td>\n",
       "      <td>0.046612</td>\n",
       "    </tr>\n",
       "  </tbody>\n",
       "</table>\n",
       "</div>"
      ],
      "text/plain": [
       "          n                label  is_oa      prop\n",
       "0  17966795   research_discourse   True  0.470543\n",
       "1  16419454   research_discourse  False  0.430018\n",
       "2   2017094  editorial_discourse   True  0.052827\n",
       "3   1779794  editorial_discourse  False  0.046612"
      ]
     },
     "execution_count": 32,
     "metadata": {},
     "output_type": "execute_result"
    }
   ],
   "source": [
    "df_doi_2012_2021_oa"
   ]
  },
  {
   "cell_type": "code",
   "execution_count": 79,
   "id": "dd728cb3-b529-4db0-b0cd-37d8de31b8af",
   "metadata": {},
   "outputs": [],
   "source": [
    "df_doi_2012_2021_topic_cwts = client.query(f\"\"\"\n",
    "                                            SELECT COUNT(DISTINCT(oal.doi)) AS oal_n, COUNT(DISTINCT(cwts.doi)) AS cwts_n,\n",
    "                                                primary_topic.domain.display_name AS topic\n",
    "                                            FROM {openalex_snapshot} AS oal\n",
    "                                            LEFT JOIN {cwts_snapshot} AS cwts\n",
    "                                                ON oal.doi = cwts.doi\n",
    "                                            WHERE primary_location.source.type = 'journal' AND publication_year BETWEEN 2012 AND 2021\n",
    "                                            GROUP BY topic\n",
    "                                            \"\"\").to_dataframe()"
   ]
  },
  {
   "cell_type": "code",
   "execution_count": 80,
   "id": "7472d204-a394-4cea-b63c-1da3d0be3be1",
   "metadata": {},
   "outputs": [],
   "source": [
    "df_doi_2012_2021_topic_cwts = df_doi_2012_2021_topic_cwts.fillna(value='No topic assigned')"
   ]
  },
  {
   "cell_type": "code",
   "execution_count": 81,
   "id": "0eee80c1-5b71-41e1-a694-3fe06a808f3e",
   "metadata": {},
   "outputs": [
    {
     "data": {
      "image/png": "[encoded data removed]",
      "text/plain": [
       "<Figure size 700x400 with 1 Axes>"
      ]
     },
     "metadata": {},
     "output_type": "display_data"
    }
   ],
   "source": [
    "fig, ax = plt.subplots(figsize=(7,4))\n",
    "plt.box(False)\n",
    "\n",
    "sns.barplot(data=df_doi_2012_2021_topic_cwts, \n",
    "            x='oal_n', \n",
    "            y='topic', \n",
    "            alpha=0.6,\n",
    "            color='#b3b3b3a0',\n",
    "            width=0.5,\n",
    "            saturation=1,\n",
    "            errorbar=None)\n",
    "\n",
    "sns.barplot(data=df_doi_2012_2021_topic_cwts, \n",
    "            x='cwts_n', \n",
    "            y='topic', \n",
    "            alpha=1,\n",
    "            color='#f68212',\n",
    "            width=0.5,\n",
    "            saturation=1,\n",
    "            errorbar=None)\n",
    "\n",
    "ax.xaxis.set_major_formatter(mtick.StrMethodFormatter('{x:,.0f}'))\n",
    "\n",
    "ax.set(xlabel='Anzahl an Publikationen', ylabel='Topic')\n",
    "\n",
    "plt.tight_layout()\n",
    "\n",
    "plt.show()"
   ]
  },
  {
   "cell_type": "code",
   "execution_count": 124,
   "id": "b8426447-a531-431f-ac88-df37d6c9ccb2",
   "metadata": {},
   "outputs": [],
   "source": [
    "df_doi_2012_2021_proba_dist = client.query(f\"\"\"\n",
    "                                            SELECT COUNT(DISTINCT(dt.doi)) AS n, ROUND(proba, 1) AS proba_rounded\n",
    "                                            FROM {openalex_snapshot} AS oal\n",
    "                                            JOIN {document_type_snapshot} AS dt\n",
    "                                                ON oal.doi = dt.doi\n",
    "                                            WHERE publication_year BETWEEN 2012 AND 2021\n",
    "                                            GROUP BY proba_rounded\n",
    "                                            \"\"\").to_dataframe()"
   ]
  },
  {
   "cell_type": "code",
   "execution_count": 149,
   "id": "8cc226cb-0731-4eb4-a7fb-43e3c98dbda4",
   "metadata": {},
   "outputs": [
    {
     "data": {
      "image/png": "[encoded data removed]",
      "text/plain": [
       "<Figure size 700x400 with 1 Axes>"
      ]
     },
     "metadata": {},
     "output_type": "display_data"
    }
   ],
   "source": [
    "fig, ax = plt.subplots(figsize=(7,4))\n",
    "plt.box(False)\n",
    "\n",
    "sns.barplot(data=df_doi_2012_2021_proba_dist, \n",
    "            x='proba_rounded', \n",
    "            y='n', \n",
    "            alpha=1,\n",
    "            color='#b3b3b3a0',\n",
    "            width=0.2,\n",
    "            saturation=1,\n",
    "            errorbar=None)\n",
    "\n",
    "ax.yaxis.set_major_formatter(mtick.StrMethodFormatter('{x:,.0f}'))\n",
    "\n",
    "ax.set(xlabel='proba (gerundet)', ylabel='n')\n",
    "\n",
    "plt.tight_layout()\n",
    "\n",
    "plt.show()"
   ]
  },
  {
   "cell_type": "code",
   "execution_count": 35,
   "id": "3cbc6392-13d7-4959-89f8-cf9b4c934df3",
   "metadata": {},
   "outputs": [],
   "source": [
    "df_doi_2012_2021_pubmed = client.query(f\"\"\"\n",
    "                                       SELECT COUNT(DISTINCT(dt.doi)) AS dt_n, COUNT(DISTINCT(pm.doi)) AS pm_n,\n",
    "                                           label\n",
    "                                       FROM {openalex_snapshot} AS oal\n",
    "                                       JOIN {document_type_snapshot} AS dt\n",
    "                                           ON oal.doi = dt.doi\n",
    "                                       LEFT JOIN (\n",
    "                                           SELECT doi \n",
    "                                           FROM {pubmed_snapshot} AS pm_snapshot\n",
    "                                           JOIN {pubmed_hierarchy} AS pm_hierarchy\n",
    "                                               ON pm_snapshot.grouprank = pm_hierarchy.grouprank\n",
    "                                           WHERE pm_hierarchy.ptype_group IN ('RCT', 'Case_Reports')\n",
    "                                       ) AS pm\n",
    "                                           ON LOWER(oal.doi) = LOWER(pm.doi)\n",
    "                                       WHERE publication_year BETWEEN 2012 AND 2021\n",
    "                                       GROUP BY label\n",
    "                                       \"\"\").to_dataframe()"
   ]
  },
  {
   "cell_type": "code",
   "execution_count": 36,
   "id": "66a4f7d0-d4db-4fe0-ae9a-6c96f480c762",
   "metadata": {},
   "outputs": [
    {
     "data": {
      "text/html": [
       "<div>\n",
       "<style scoped>\n",
       "    .dataframe tbody tr th:only-of-type {\n",
       "        vertical-align: middle;\n",
       "    }\n",
       "\n",
       "    .dataframe tbody tr th {\n",
       "        vertical-align: top;\n",
       "    }\n",
       "\n",
       "    .dataframe thead th {\n",
       "        text-align: right;\n",
       "    }\n",
       "</style>\n",
       "<table border=\"1\" class=\"dataframe\">\n",
       "  <thead>\n",
       "    <tr style=\"text-align: right;\">\n",
       "      <th></th>\n",
       "      <th>dt_n</th>\n",
       "      <th>pm_n</th>\n",
       "      <th>label</th>\n",
       "    </tr>\n",
       "  </thead>\n",
       "  <tbody>\n",
       "    <tr>\n",
       "      <th>0</th>\n",
       "      <td>34386050</td>\n",
       "      <td>802262</td>\n",
       "      <td>research_discourse</td>\n",
       "    </tr>\n",
       "    <tr>\n",
       "      <th>1</th>\n",
       "      <td>3796866</td>\n",
       "      <td>27665</td>\n",
       "      <td>editorial_discourse</td>\n",
       "    </tr>\n",
       "  </tbody>\n",
       "</table>\n",
       "</div>"
      ],
      "text/plain": [
       "       dt_n    pm_n                label\n",
       "0  34386050  802262   research_discourse\n",
       "1   3796866   27665  editorial_discourse"
      ]
     },
     "execution_count": 36,
     "metadata": {},
     "output_type": "execute_result"
    }
   ],
   "source": [
    "df_doi_2012_2021_pubmed"
   ]
  },
  {
   "cell_type": "code",
   "execution_count": 96,
   "id": "c2c282cb-18df-46a6-98ea-09bbf5afd459",
   "metadata": {},
   "outputs": [],
   "source": [
    "df_doi_2012_2021_publisher = client.query(f\"\"\"\n",
    "                                           SELECT COUNT(DISTINCT(oal.doi)) AS n, label, \n",
    "                                               oal_sources.host_organization_name AS publisher\n",
    "                                           FROM {openalex_snapshot} AS oal\n",
    "                                           JOIN {document_type_snapshot} AS dt\n",
    "                                               ON oal.doi = dt.doi \n",
    "                                           JOIN {openalex_sources} AS oal_sources\n",
    "                                               ON oal.primary_location.source.id = oal_sources.id\n",
    "                                           WHERE publication_year BETWEEN 2012 AND 2021\n",
    "                                               AND oal_sources.type = 'journal'\n",
    "                                           GROUP BY publisher, label\n",
    "                                           \"\"\").to_dataframe()"
   ]
  },
  {
   "cell_type": "code",
   "execution_count": 97,
   "id": "0139f04e-c339-4c4d-a2cc-a88daa8c051a",
   "metadata": {},
   "outputs": [],
   "source": [
    "df_doi_2012_2021_publisher_total = df_doi_2012_2021_publisher.groupby(['publisher'])['n'].sum().reset_index()\n",
    "df_doi_2012_2021_publisher_total = df_doi_2012_2021_publisher_total.rename(columns={'n': 'n_total'})"
   ]
  },
  {
   "cell_type": "code",
   "execution_count": 98,
   "id": "47cbe4e1-b952-4b08-ba6d-8293d8e9d67d",
   "metadata": {},
   "outputs": [],
   "source": [
    "df_doi_2012_2021_publisher = df_doi_2012_2021_publisher.merge(df_doi_2012_2021_publisher_total, on='publisher')\n",
    "df_doi_2012_2021_publisher['prop'] = (df_doi_2012_2021_publisher.n / df_doi_2012_2021_publisher.n_total) * 100"
   ]
  },
  {
   "cell_type": "code",
   "execution_count": 151,
   "id": "b6b7da90-0d7d-4d43-a792-5321a69babae",
   "metadata": {},
   "outputs": [
    {
     "data": {
      "text/html": [
       "<div>\n",
       "<style scoped>\n",
       "    .dataframe tbody tr th:only-of-type {\n",
       "        vertical-align: middle;\n",
       "    }\n",
       "\n",
       "    .dataframe tbody tr th {\n",
       "        vertical-align: top;\n",
       "    }\n",
       "\n",
       "    .dataframe thead th {\n",
       "        text-align: right;\n",
       "    }\n",
       "</style>\n",
       "<table border=\"1\" class=\"dataframe\">\n",
       "  <thead>\n",
       "    <tr style=\"text-align: right;\">\n",
       "      <th></th>\n",
       "      <th>n</th>\n",
       "      <th>label</th>\n",
       "      <th>publisher</th>\n",
       "      <th>n_total</th>\n",
       "      <th>prop</th>\n",
       "    </tr>\n",
       "  </thead>\n",
       "  <tbody>\n",
       "    <tr>\n",
       "      <th>78</th>\n",
       "      <td>28838</td>\n",
       "      <td>research_discourse</td>\n",
       "      <td>Adis, Springer Healthcare</td>\n",
       "      <td>152582</td>\n",
       "      <td>18.900001</td>\n",
       "    </tr>\n",
       "    <tr>\n",
       "      <th>341</th>\n",
       "      <td>6755</td>\n",
       "      <td>research_discourse</td>\n",
       "      <td>Royal Pharmaceutical Society</td>\n",
       "      <td>15158</td>\n",
       "      <td>44.563927</td>\n",
       "    </tr>\n",
       "    <tr>\n",
       "      <th>48</th>\n",
       "      <td>15299</td>\n",
       "      <td>research_discourse</td>\n",
       "      <td>Royal College of Nursing</td>\n",
       "      <td>33161</td>\n",
       "      <td>46.135521</td>\n",
       "    </tr>\n",
       "    <tr>\n",
       "      <th>5352</th>\n",
       "      <td>8688</td>\n",
       "      <td>research_discourse</td>\n",
       "      <td>OpenEdition Journals</td>\n",
       "      <td>18420</td>\n",
       "      <td>47.166124</td>\n",
       "    </tr>\n",
       "    <tr>\n",
       "      <th>8070</th>\n",
       "      <td>18737</td>\n",
       "      <td>research_discourse</td>\n",
       "      <td>Case Journals</td>\n",
       "      <td>38202</td>\n",
       "      <td>49.04717</td>\n",
       "    </tr>\n",
       "    <tr>\n",
       "      <th>8013</th>\n",
       "      <td>15352</td>\n",
       "      <td>research_discourse</td>\n",
       "      <td>Massachusetts Medical Society</td>\n",
       "      <td>27010</td>\n",
       "      <td>56.838208</td>\n",
       "    </tr>\n",
       "    <tr>\n",
       "      <th>2786</th>\n",
       "      <td>7424</td>\n",
       "      <td>research_discourse</td>\n",
       "      <td>International Union of Crystallography</td>\n",
       "      <td>12800</td>\n",
       "      <td>58.0</td>\n",
       "    </tr>\n",
       "    <tr>\n",
       "      <th>2704</th>\n",
       "      <td>19842</td>\n",
       "      <td>research_discourse</td>\n",
       "      <td>EMH Swiss Medical Publishers Ltd.</td>\n",
       "      <td>33637</td>\n",
       "      <td>58.988614</td>\n",
       "    </tr>\n",
       "    <tr>\n",
       "      <th>56</th>\n",
       "      <td>8964</td>\n",
       "      <td>research_discourse</td>\n",
       "      <td>AIP Publishing</td>\n",
       "      <td>14679</td>\n",
       "      <td>61.06683</td>\n",
       "    </tr>\n",
       "    <tr>\n",
       "      <th>3232</th>\n",
       "      <td>7478</td>\n",
       "      <td>research_discourse</td>\n",
       "      <td>Indiana University Press</td>\n",
       "      <td>11482</td>\n",
       "      <td>65.128026</td>\n",
       "    </tr>\n",
       "  </tbody>\n",
       "</table>\n",
       "</div>"
      ],
      "text/plain": [
       "          n               label                               publisher  \\\n",
       "78    28838  research_discourse               Adis, Springer Healthcare   \n",
       "341    6755  research_discourse            Royal Pharmaceutical Society   \n",
       "48    15299  research_discourse                Royal College of Nursing   \n",
       "5352   8688  research_discourse                    OpenEdition Journals   \n",
       "8070  18737  research_discourse                           Case Journals   \n",
       "8013  15352  research_discourse           Massachusetts Medical Society   \n",
       "2786   7424  research_discourse  International Union of Crystallography   \n",
       "2704  19842  research_discourse       EMH Swiss Medical Publishers Ltd.   \n",
       "56     8964  research_discourse                          AIP Publishing   \n",
       "3232   7478  research_discourse                Indiana University Press   \n",
       "\n",
       "      n_total       prop  \n",
       "78     152582  18.900001  \n",
       "341     15158  44.563927  \n",
       "48      33161  46.135521  \n",
       "5352    18420  47.166124  \n",
       "8070    38202   49.04717  \n",
       "8013    27010  56.838208  \n",
       "2786    12800       58.0  \n",
       "2704    33637  58.988614  \n",
       "56      14679   61.06683  \n",
       "3232    11482  65.128026  "
      ]
     },
     "execution_count": 151,
     "metadata": {},
     "output_type": "execute_result"
    }
   ],
   "source": [
    "df_doi_2012_2021_publisher[(df_doi_2012_2021_publisher.n_total > 10000) & (df_doi_2012_2021_publisher.label == 'research_discourse')] \\\n",
    "    .sort_values(by='prop', ascending=True).head(10)"
   ]
  },
  {
   "cell_type": "code",
   "execution_count": 150,
   "id": "9828bc49-5596-4152-8801-1063c6ea9b9d",
   "metadata": {},
   "outputs": [
    {
     "data": {
      "text/html": [
       "<div>\n",
       "<style scoped>\n",
       "    .dataframe tbody tr th:only-of-type {\n",
       "        vertical-align: middle;\n",
       "    }\n",
       "\n",
       "    .dataframe tbody tr th {\n",
       "        vertical-align: top;\n",
       "    }\n",
       "\n",
       "    .dataframe thead th {\n",
       "        text-align: right;\n",
       "    }\n",
       "</style>\n",
       "<table border=\"1\" class=\"dataframe\">\n",
       "  <thead>\n",
       "    <tr style=\"text-align: right;\">\n",
       "      <th></th>\n",
       "      <th>n</th>\n",
       "      <th>label</th>\n",
       "      <th>publisher</th>\n",
       "      <th>n_total</th>\n",
       "      <th>prop</th>\n",
       "    </tr>\n",
       "  </thead>\n",
       "  <tbody>\n",
       "    <tr>\n",
       "      <th>10495</th>\n",
       "      <td>189657</td>\n",
       "      <td>research_discourse</td>\n",
       "      <td>Trans Tech Publications</td>\n",
       "      <td>189697</td>\n",
       "      <td>99.978914</td>\n",
       "    </tr>\n",
       "    <tr>\n",
       "      <th>5304</th>\n",
       "      <td>11401</td>\n",
       "      <td>research_discourse</td>\n",
       "      <td>Ivyspring International Publisher</td>\n",
       "      <td>11413</td>\n",
       "      <td>99.894857</td>\n",
       "    </tr>\n",
       "    <tr>\n",
       "      <th>2690</th>\n",
       "      <td>13436</td>\n",
       "      <td>research_discourse</td>\n",
       "      <td>PeerJ, Inc.</td>\n",
       "      <td>13452</td>\n",
       "      <td>99.881059</td>\n",
       "    </tr>\n",
       "    <tr>\n",
       "      <th>196</th>\n",
       "      <td>21942</td>\n",
       "      <td>research_discourse</td>\n",
       "      <td>Excellent Publishers</td>\n",
       "      <td>21972</td>\n",
       "      <td>99.863463</td>\n",
       "    </tr>\n",
       "    <tr>\n",
       "      <th>5366</th>\n",
       "      <td>46707</td>\n",
       "      <td>research_discourse</td>\n",
       "      <td>Spandidos Publishing</td>\n",
       "      <td>46799</td>\n",
       "      <td>99.803415</td>\n",
       "    </tr>\n",
       "  </tbody>\n",
       "</table>\n",
       "</div>"
      ],
      "text/plain": [
       "            n               label                          publisher  n_total  \\\n",
       "10495  189657  research_discourse            Trans Tech Publications   189697   \n",
       "5304    11401  research_discourse  Ivyspring International Publisher    11413   \n",
       "2690    13436  research_discourse                        PeerJ, Inc.    13452   \n",
       "196     21942  research_discourse               Excellent Publishers    21972   \n",
       "5366    46707  research_discourse               Spandidos Publishing    46799   \n",
       "\n",
       "            prop  \n",
       "10495  99.978914  \n",
       "5304   99.894857  \n",
       "2690   99.881059  \n",
       "196    99.863463  \n",
       "5366   99.803415  "
      ]
     },
     "execution_count": 150,
     "metadata": {},
     "output_type": "execute_result"
    }
   ],
   "source": [
    "df_doi_2012_2021_publisher[(df_doi_2012_2021_publisher.n_total > 10000) & (df_doi_2012_2021_publisher.label == 'research_discourse')] \\\n",
    "    .sort_values(by='prop', ascending=False).head()"
   ]
  },
  {
   "cell_type": "code",
   "execution_count": 148,
   "id": "ce2b42af-ba36-41c7-a36d-8ad24de63e3c",
   "metadata": {},
   "outputs": [
    {
     "data": {
      "image/png": "[encoded data removed]",
      "text/plain": [
       "<Figure size 700x400 with 1 Axes>"
      ]
     },
     "metadata": {},
     "output_type": "display_data"
    }
   ],
   "source": [
    "df_plot = df_doi_2012_2021_publisher[df_doi_2012_2021_publisher.label == 'research_discourse'].copy()\n",
    "df_plot['prop_rounded'] = df_plot['prop'].apply(lambda x: round(x / 10) * 10)\n",
    "df_plot = df_plot.groupby(['prop_rounded']).publisher.count().reset_index()\n",
    "\n",
    "fig, ax = plt.subplots(figsize=(7,4))\n",
    "plt.box(False)\n",
    "\n",
    "sns.barplot(data=df_plot, \n",
    "            x='prop_rounded', \n",
    "            y='publisher', \n",
    "            alpha=1,\n",
    "            color='#b3b3b3a0',\n",
    "            width=0.2,\n",
    "            saturation=1,\n",
    "            errorbar=None)\n",
    "\n",
    "ax.yaxis.set_major_formatter(mtick.StrMethodFormatter('{x:,.0f}'))\n",
    "\n",
    "ax.set(xlabel='prop (gerundet)', ylabel='Anzahl der Verlage')\n",
    "\n",
    "plt.tight_layout()\n",
    "\n",
    "plt.show()"
   ]
  },
  {
   "cell_type": "code",
   "execution_count": 147,
   "id": "343b34bc-994e-4b0c-9c9a-46db04e6b960",
   "metadata": {},
   "outputs": [
    {
     "data": {
      "image/png": "[encoded data removed]",
      "text/plain": [
       "<Figure size 700x400 with 1 Axes>"
      ]
     },
     "metadata": {},
     "output_type": "display_data"
    }
   ],
   "source": [
    "df_plot = df_doi_2012_2021_publisher[df_doi_2012_2021_publisher.label == 'research_discourse'].copy()\n",
    "df_plot['prop_rounded'] = df_plot['prop'].apply(lambda x: round(x / 10) * 10)\n",
    "df_plot = df_plot.groupby(['prop_rounded']).n_total.sum().reset_index()\n",
    "\n",
    "fig, ax = plt.subplots(figsize=(7,4))\n",
    "plt.box(False)\n",
    "\n",
    "sns.barplot(data=df_plot, \n",
    "            x='prop_rounded', \n",
    "            y='n_total', \n",
    "            alpha=1,\n",
    "            color='#b3b3b3a0',\n",
    "            width=0.2,\n",
    "            saturation=1,\n",
    "            errorbar=None)\n",
    "\n",
    "ax.yaxis.set_major_formatter(mtick.StrMethodFormatter('{x:,.0f}'))\n",
    "\n",
    "ax.set(xlabel='prop (gerundet)', ylabel='Anzahl der Publikationen')\n",
    "\n",
    "plt.tight_layout()\n",
    "\n",
    "plt.show()"
   ]
  },
  {
   "cell_type": "markdown",
   "id": "3698eb1c-eae8-49e4-b0d9-167493e28655",
   "metadata": {},
   "source": [
    "## Abgleich mit dem KB"
   ]
  },
  {
   "cell_type": "code",
   "execution_count": 6,
   "id": "7f55ba46-acd8-42dc-a99a-1d5dc2880fa9",
   "metadata": {},
   "outputs": [],
   "source": [
    "host = os.environ['KB_HOST']\n",
    "database = os.environ['KB_DATABASE']\n",
    "user = os.environ['KB_USER']\n",
    "pw = os.environ['KB_PASSWORD']\n",
    "port = os.environ['KB_PORT']\n",
    "engine = create_engine(f'postgresql://{user}:{pw}@{host}:{port}/{database}')"
   ]
  },
  {
   "cell_type": "code",
   "execution_count": 164,
   "id": "185f030c-6922-4222-966f-77ada65afc02",
   "metadata": {},
   "outputs": [],
   "source": [
    "scp_cla_n = pd.read_sql(\"\"\"\n",
    "                        SELECT COUNT(DISTINCT(dt.doi)) AS n, label\n",
    "                        FROM unignhaupka.classification_article_reviews_august_2024 AS dt\n",
    "                        JOIN scp_b_202404.items scp\n",
    "                            ON LOWER(dt.doi) = LOWER(scp.doi)\n",
    "                        WHERE ('Article' = ANY(item_type) OR 'Review' = ANY(item_type)) AND (scp.pubyear BETWEEN 2012 AND 2021)\n",
    "                        GROUP BY label\n",
    "                        \"\"\", \n",
    "                        con=engine)"
   ]
  },
  {
   "cell_type": "code",
   "execution_count": 166,
   "id": "fc8cafe0-6d7f-42c9-9e84-62ceb1859c2a",
   "metadata": {},
   "outputs": [
    {
     "data": {
      "text/plain": [
       "0    0.012732\n",
       "Name: n, dtype: float64"
      ]
     },
     "execution_count": 166,
     "metadata": {},
     "output_type": "execute_result"
    }
   ],
   "source": [
    "scp_cla_n[scp_cla_n['label'] == 'editorial_discourse'].n / scp_cla_n.n.sum()"
   ]
  },
  {
   "cell_type": "code",
   "execution_count": 7,
   "id": "2b8e0f30-e415-4c8f-9000-04f23467d416",
   "metadata": {},
   "outputs": [],
   "source": [
    "scp_oal_n = pd.read_sql(\"\"\"\n",
    "                        SELECT COUNT(DISTINCT(oal.doi)) AS oal_n, COUNT(DISTINCT(scp.doi)) AS scp_n\n",
    "                        FROM fiz_openalex_bdb_20240427.items AS oal\n",
    "                        LEFT JOIN (\n",
    "                            SELECT DISTINCT doi\n",
    "                            FROM scp_b_202404.items scp_items\n",
    "                            WHERE ('Article' = ANY(scp_items.item_type) OR 'Review' = ANY(scp_items.item_type)) AND \n",
    "                                (scp_items.pubyear BETWEEN 2012 AND 2021)\n",
    "                        ) AS scp\n",
    "                            ON LOWER(oal.doi) = LOWER(scp.doi)\n",
    "                        WHERE 'article' = ANY(oal.item_type) AND oal.source_type = 'journal' AND oal.pubyear BETWEEN 2012 AND 2021\n",
    "                        \"\"\", \n",
    "                        con=engine)"
   ]
  },
  {
   "cell_type": "code",
   "execution_count": 8,
   "id": "e01bac97-306f-434b-b537-916490ae277a",
   "metadata": {},
   "outputs": [
    {
     "data": {
      "text/html": [
       "<div>\n",
       "<style scoped>\n",
       "    .dataframe tbody tr th:only-of-type {\n",
       "        vertical-align: middle;\n",
       "    }\n",
       "\n",
       "    .dataframe tbody tr th {\n",
       "        vertical-align: top;\n",
       "    }\n",
       "\n",
       "    .dataframe thead th {\n",
       "        text-align: right;\n",
       "    }\n",
       "</style>\n",
       "<table border=\"1\" class=\"dataframe\">\n",
       "  <thead>\n",
       "    <tr style=\"text-align: right;\">\n",
       "      <th></th>\n",
       "      <th>oal_n</th>\n",
       "      <th>scp_n</th>\n",
       "    </tr>\n",
       "  </thead>\n",
       "  <tbody>\n",
       "    <tr>\n",
       "      <th>0</th>\n",
       "      <td>38117108</td>\n",
       "      <td>19514958</td>\n",
       "    </tr>\n",
       "  </tbody>\n",
       "</table>\n",
       "</div>"
      ],
      "text/plain": [
       "      oal_n     scp_n\n",
       "0  38117108  19514958"
      ]
     },
     "execution_count": 8,
     "metadata": {},
     "output_type": "execute_result"
    }
   ],
   "source": [
    "scp_oal_n"
   ]
  },
  {
   "cell_type": "code",
   "execution_count": 9,
   "id": "f839425d-05b1-4b34-a463-f8b3423aedaa",
   "metadata": {},
   "outputs": [
    {
     "data": {
      "text/plain": [
       "0.5119737310606041"
      ]
     },
     "execution_count": 9,
     "metadata": {},
     "output_type": "execute_result"
    }
   ],
   "source": [
    "19514958 / 38117108"
   ]
  },
  {
   "cell_type": "code",
   "execution_count": 10,
   "id": "454d58d4-6a4b-486c-ae16-bea9719eaeed",
   "metadata": {},
   "outputs": [
    {
     "data": {
      "text/plain": [
       "0.48802626893939594"
      ]
     },
     "execution_count": 10,
     "metadata": {},
     "output_type": "execute_result"
    }
   ],
   "source": [
    "1 - 0.5119737310606041"
   ]
  },
  {
   "cell_type": "code",
   "execution_count": 25,
   "id": "070e9757-fa54-479c-8e89-c26ad98812d8",
   "metadata": {},
   "outputs": [],
   "source": [
    "oal_n = pd.read_sql(\"\"\"\n",
    "                    SELECT COUNT(DISTINCT(oal.doi)) AS n, scp.pubyear \n",
    "                    FROM unignhaupka.oal_dois_2024 AS oal\n",
    "                    JOIN scp_b_202404.items AS scp\n",
    "                        ON LOWER(oal.doi) = LOWER(scp.doi)\n",
    "                    WHERE (oal_type = 'article' OR oal_type = 'review') AND scp.pubyear BETWEEN 2012 AND 2021\n",
    "                    GROUP BY scp.pubyear\n",
    "                    \"\"\", \n",
    "                    con=engine)"
   ]
  },
  {
   "cell_type": "code",
   "execution_count": 26,
   "id": "5cc3a7ac-6d0a-4513-9682-3334a610d736",
   "metadata": {},
   "outputs": [],
   "source": [
    "scp_n = pd.read_sql(\"\"\"\n",
    "                    SELECT COUNT(DISTINCT(oal.doi)) AS n, scp.pubyear\n",
    "                    FROM unignhaupka.oal_dois_2024 AS oal\n",
    "                    JOIN scp_b_202404.items AS scp\n",
    "                        ON LOWER(oal.doi) = LOWER(scp.doi)\n",
    "                    WHERE scp.pubyear BETWEEN 2012 AND 2021\n",
    "                        AND ('Article' = ANY(scp.item_type) OR 'Review' = ANY(scp.item_type))\n",
    "                    GROUP BY scp.pubyear\n",
    "                    \"\"\", \n",
    "                    con=engine)"
   ]
  },
  {
   "cell_type": "code",
   "execution_count": 27,
   "id": "aff0d196-66a6-4f04-8a04-8d2e7f7697d1",
   "metadata": {},
   "outputs": [],
   "source": [
    "dt_n = pd.read_sql(\"\"\"\n",
    "                   SELECT COUNT(DISTINCT(oal.doi)) AS n, scp.pubyear\n",
    "                   FROM unignhaupka.oal_dois_2024 AS oal\n",
    "                   JOIN scp_b_202404.items AS scp\n",
    "                       ON LOWER(oal.doi) = LOWER(scp.doi)\n",
    "                   JOIN unignhaupka.classification_article_reviews_august_2024 AS dt\n",
    "                       ON LOWER(dt.doi) = LOWER(oal.doi)\n",
    "                   WHERE scp.pubyear BETWEEN 2012 AND 2021 AND label = 'research_discourse'\n",
    "                   GROUP BY scp.pubyear\n",
    "                   \"\"\", \n",
    "                   con=engine)"
   ]
  },
  {
   "cell_type": "code",
   "execution_count": null,
   "id": "068edaef-0998-40ac-a387-af17c5803243",
   "metadata": {},
   "outputs": [],
   "source": []
  },
  {
   "cell_type": "code",
   "execution_count": null,
   "id": "dddb3fe8-26f9-45b6-bd6f-8e0f9e2875b6",
   "metadata": {},
   "outputs": [],
   "source": []
  },
  {
   "cell_type": "code",
   "execution_count": 7,
   "id": "416eb950-6a81-410a-a8c6-465b646c8691",
   "metadata": {},
   "outputs": [],
   "source": [
    "oal_n = pd.read_sql(\"\"\"\n",
    "                    SELECT COUNT(DISTINCT(doi)) AS n\n",
    "                    FROM unignhaupka.oal_wos_scp_s2_pubmed_comparison_2012_22\n",
    "                    WHERE oal_type = 'article'\n",
    "                    \"\"\", \n",
    "                    con=engine)"
   ]
  },
  {
   "cell_type": "code",
   "execution_count": 8,
   "id": "78d839be-1b36-45d6-ba7b-ffd329651c6e",
   "metadata": {},
   "outputs": [],
   "source": [
    "scp_n = pd.read_sql(\"\"\"\n",
    "                    SELECT COUNT(DISTINCT(doi)) AS n\n",
    "                    FROM unignhaupka.oal_wos_scp_s2_pubmed_comparison_2012_22\n",
    "                    WHERE ('Article' = ANY(scp_type) OR 'Review' = ANY(scp_type))\n",
    "                    \"\"\", \n",
    "                    con=engine)"
   ]
  },
  {
   "cell_type": "code",
   "execution_count": 9,
   "id": "0efd576b-fdcc-4271-b302-7a32c50fe3c4",
   "metadata": {},
   "outputs": [],
   "source": [
    "dt_n = pd.read_sql(\"\"\"\n",
    "                   SELECT COUNT(DISTINCT(c.doi)) AS n\n",
    "                   FROM unignhaupka.oal_wos_scp_s2_pubmed_comparison_2012_22 c\n",
    "                   JOIN unignhaupka.classification_article_reviews_august_2024 AS dt\n",
    "                       ON LOWER(dt.doi) = LOWER(c.doi)\n",
    "                   WHERE label = 'research_discourse'\n",
    "                   \"\"\", \n",
    "                   con=engine)"
   ]
  },
  {
   "cell_type": "code",
   "execution_count": 22,
   "id": "c14e830d-e239-425e-8899-743016107904",
   "metadata": {},
   "outputs": [],
   "source": [
    "oal24_n = pd.read_sql(\"\"\"\n",
    "                      SELECT COUNT(DISTINCT(c.doi)) AS n\n",
    "                      FROM unignhaupka.oal_wos_scp_s2_pubmed_comparison_2012_22 c\n",
    "                      JOIN unignhaupka.oal_dois_2024 o\n",
    "                          ON LOWER(c.doi) = LOWER(o.doi)\n",
    "                      WHERE o.oal_type = 'article' OR o.oal_type = 'review'\n",
    "                      \"\"\", \n",
    "                      con=engine)"
   ]
  },
  {
   "cell_type": "code",
   "execution_count": 10,
   "id": "0f67263e-28b7-49dc-9293-21dbdd0606e6",
   "metadata": {},
   "outputs": [],
   "source": [
    "all_n = pd.read_sql(\"\"\"\n",
    "                    SELECT COUNT(DISTINCT(doi)) AS n\n",
    "                    FROM unignhaupka.oal_wos_scp_s2_pubmed_comparison_2012_22\n",
    "                    \"\"\", \n",
    "                    con=engine)"
   ]
  },
  {
   "cell_type": "code",
   "execution_count": 15,
   "id": "1fcbbdcb-9a6b-4965-a3b8-a4f394b6085b",
   "metadata": {},
   "outputs": [
    {
     "data": {
      "text/plain": [
       "0    0.994967\n",
       "Name: n, dtype: float64"
      ]
     },
     "execution_count": 15,
     "metadata": {},
     "output_type": "execute_result"
    }
   ],
   "source": [
    "oal_n.n / all_n.n"
   ]
  },
  {
   "cell_type": "code",
   "execution_count": 16,
   "id": "01d9f72a-4be9-446f-82d9-18395dd3523d",
   "metadata": {},
   "outputs": [
    {
     "data": {
      "text/plain": [
       "0    0.892001\n",
       "Name: n, dtype: float64"
      ]
     },
     "execution_count": 16,
     "metadata": {},
     "output_type": "execute_result"
    }
   ],
   "source": [
    "scp_n.n / all_n.n"
   ]
  },
  {
   "cell_type": "code",
   "execution_count": 17,
   "id": "4909d760-439c-4923-bf57-de13211ede4e",
   "metadata": {},
   "outputs": [
    {
     "data": {
      "text/plain": [
       "0    0.90819\n",
       "Name: n, dtype: float64"
      ]
     },
     "execution_count": 17,
     "metadata": {},
     "output_type": "execute_result"
    }
   ],
   "source": [
    "dt_n.n / all_n.n"
   ]
  },
  {
   "cell_type": "code",
   "execution_count": 23,
   "id": "84c494b4-116b-4bd1-9ff0-b69bbc2354c0",
   "metadata": {},
   "outputs": [
    {
     "data": {
      "text/plain": [
       "0    0.92089\n",
       "Name: n, dtype: float64"
      ]
     },
     "execution_count": 23,
     "metadata": {},
     "output_type": "execute_result"
    }
   ],
   "source": [
    "oal24_n.n / all_n.n"
   ]
  },
  {
   "cell_type": "code",
   "execution_count": 39,
   "id": "d4fedcc7-f82a-45ae-ad32-6794baa4f499",
   "metadata": {},
   "outputs": [
    {
     "data": {
      "image/png": "[encoded data removed]",
      "text/plain": [
       "<Figure size 600x450 with 1 Axes>"
      ]
     },
     "metadata": {},
     "output_type": "display_data"
    }
   ],
   "source": [
    "fig, ax = plt.subplots(figsize=(6,4.5))\n",
    "plt.box(False)\n",
    "\n",
    "sns.lineplot(data=oal_n,\n",
    "             x='pubyear',\n",
    "             y='n',\n",
    "             color='#c3c3c3',\n",
    "             marker='o',\n",
    "             ax=ax)\n",
    "\n",
    "sns.lineplot(data=scp_n,\n",
    "             x='pubyear',\n",
    "             y='n',\n",
    "             color='#9e0059',\n",
    "             marker='o',\n",
    "             ax=ax)\n",
    "\n",
    "sns.lineplot(data=dt_n,\n",
    "             x='pubyear',\n",
    "             y='n',\n",
    "             color='#fc5185',\n",
    "             marker='o',\n",
    "             ax=ax)\n",
    "\n",
    "ax.yaxis.set_major_formatter(mtick.StrMethodFormatter('{x:,.0f}'))\n",
    "ax.grid(False, which='both', axis='x')\n",
    "ax.set(xlabel='Jahr', ylabel='Items, die als wissenschaftliche Artikel identifiziert werden')\n",
    "\n",
    "clas_patch = Line2D([0], [0], color='#fc5185', label='Classifier')\n",
    "scp_patch = Line2D([0], [0], color='#9e0059', label='Scopus (04/2024)')\n",
    "oal_patch = Line2D([0], [0], color='#c3c3c3', label='OpenAlex (07/2024)')\n",
    "\n",
    "lgd = fig.legend(handles=[clas_patch, scp_patch, oal_patch], frameon=False,\n",
    "                 bbox_to_anchor=(1.3, 0.9), labelspacing=1.1)\n",
    "\n",
    "plt.tight_layout()\n",
    "\n",
    "plt.show()"
   ]
  },
  {
   "cell_type": "code",
   "execution_count": null,
   "id": "7e53a3a9-7248-4950-adc6-2e8fc074eeee",
   "metadata": {},
   "outputs": [],
   "source": []
  }
 ],
 "metadata": {
  "kernelspec": {
   "display_name": "Python 3 (ipykernel)",
   "language": "python",
   "name": "python3"
  },
  "language_info": {
   "codemirror_mode": {
    "name": "ipython",
    "version": 3
   },
   "file_extension": ".py",
   "mimetype": "text/x-python",
   "name": "python",
   "nbconvert_exporter": "python",
   "pygments_lexer": "ipython3",
   "version": "3.11.10"
  }
 },
 "nbformat": 4,
 "nbformat_minor": 5
}
