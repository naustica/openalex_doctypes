{
 "cells": [
  {
   "cell_type": "code",
   "execution_count": 1,
   "id": "3c4660ef-3e32-482c-9251-33f966a37bae",
   "metadata": {},
   "outputs": [],
   "source": [
    "import os\n",
    "import pandas as pd\n",
    "import numpy as np\n",
    "import re\n",
    "from sklearn.model_selection import GridSearchCV, cross_val_score, KFold, train_test_split\n",
    "from sklearn.linear_model import LogisticRegression\n",
    "from sklearn.metrics import (classification_report, \n",
    "                             confusion_matrix, \n",
    "                             ConfusionMatrixDisplay, roc_curve, auc, PrecisionRecallDisplay, RocCurveDisplay, mean_squared_error)\n",
    "from sklearn.dummy import DummyClassifier\n",
    "from sklearn.ensemble import RandomForestClassifier\n",
    "from sklearn.neighbors import KNeighborsClassifier\n",
    "from sklearn.ensemble import AdaBoostClassifier"
   ]
  },
  {
   "cell_type": "code",
   "execution_count": 2,
   "id": "f644b6ab-3699-49bf-93a4-82980412a0da",
   "metadata": {},
   "outputs": [],
   "source": [
    "df = pd.read_csv('./../../datasets/oal_doc_dataset_extended.csv', \n",
    "                 names=['doi', 'pm_grouptype', 'type', 'abstract', 'title', 'page', 'author_count',\n",
    "                          'has_license', 'is_referenced_by_count',\n",
    "                          'references_count', 'has_funder', 'country_count', 'inst_count', 'has_oa_url'],\n",
    "                 dtype={'doi': str,\n",
    "                        'pm_grouptype': str,\n",
    "                        'type': str,\n",
    "                        'abstract': str,\n",
    "                        'title': str,\n",
    "                        'page': str,\n",
    "                        'author_count': int,\n",
    "                        'has_license': int,\n",
    "                        'is_referenced_by_count': int,\n",
    "                        'references_count': int,\n",
    "                        'has_funder': int,\n",
    "                        'country_count': int,\n",
    "                        'inst_count': int,\n",
    "                        'has_oa_url': int\n",
    "                 }, sep=',', quotechar='\"', header=0)"
   ]
  },
  {
   "cell_type": "code",
   "execution_count": 3,
   "id": "d208e57d-f25b-493f-8d45-c690cb36ee2d",
   "metadata": {},
   "outputs": [],
   "source": [
    "def page_counter(page_str):\n",
    "    page_int = 1\n",
    "    if '-' in str(page_str):\n",
    "        try:\n",
    "            page_str = re.sub(r'(\\.e)[\\d]*', '', page_str)\n",
    "            page_str = re.sub(r'(\\.)[\\d]*', '', page_str)\n",
    "            page_str = re.sub(r'(?<=\\d)(e)(\\d)*', '', page_str)\n",
    "            page_str = re.sub(r'[^\\d-]', '', page_str)\n",
    "            page_int = int(abs(eval(page_str)))\n",
    "            page_int += 1\n",
    "        except:\n",
    "            pass\n",
    "        \n",
    "    return page_int"
   ]
  },
  {
   "cell_type": "code",
   "execution_count": 4,
   "id": "84b2ed98-5db2-436e-a5e5-5e82c483b07c",
   "metadata": {},
   "outputs": [],
   "source": [
    "df['page_count'] = df.page.apply(page_counter)\n",
    "df['page_count'] = df['page_count'].astype(int)"
   ]
  },
  {
   "cell_type": "code",
   "execution_count": 5,
   "id": "0b5cad21-c268-4b7d-a680-61b6210f34ee",
   "metadata": {},
   "outputs": [],
   "source": [
    "df['title_word_length'] = df['title'].str.split().str.len()"
   ]
  },
  {
   "cell_type": "code",
   "execution_count": 6,
   "id": "3934abe4-5532-451d-95e3-e0aea4c251e8",
   "metadata": {},
   "outputs": [],
   "source": [
    "def has_abstract(abstract_str):\n",
    "    if pd.isna(abstract_str):\n",
    "        return 0\n",
    "    else:\n",
    "        return 1"
   ]
  },
  {
   "cell_type": "code",
   "execution_count": 7,
   "id": "6ca40132-8b3b-475e-a112-24c2a9555916",
   "metadata": {},
   "outputs": [],
   "source": [
    "df['title_word_length'] = df['title_word_length'].fillna(0)"
   ]
  },
  {
   "cell_type": "code",
   "execution_count": 8,
   "id": "431ae2a9-3623-478e-83ce-1caccf6e9045",
   "metadata": {},
   "outputs": [],
   "source": [
    "df['has_abstract'] = df.abstract.apply(has_abstract)\n",
    "df['has_abstract'] = df['has_abstract'].astype(int)"
   ]
  },
  {
   "cell_type": "code",
   "execution_count": 9,
   "id": "7215b1c3-593d-4dfa-a8ec-612d423d3770",
   "metadata": {},
   "outputs": [],
   "source": [
    "df = df[df['type'] != 'not assigned']\n",
    "df['type'] = df['type'].replace(to_replace='research_discourse', value='1')\n",
    "df['type'] = df['type'].replace(to_replace='editorial_discourse', value='0')\n",
    "df['type'] = df['type'].astype(int)\n",
    "df = df.reset_index(drop=True)"
   ]
  },
  {
   "cell_type": "code",
   "execution_count": 10,
   "id": "f49c68be-4a0a-4493-a710-51fbab3e5bd6",
   "metadata": {},
   "outputs": [],
   "source": [
    "df_publisher = pd.read_csv('./../../datasets/cr_publisher.csv', sep=',')\n",
    "\n",
    "df_with_publisher = df.merge(df_publisher, on=['doi'])\n",
    "df_pub_n = df_with_publisher.groupby(['publisher'])['doi'].count().reset_index().sort_values(by=['doi'], ascending=False)\n",
    "df_pub_n.columns = ['publisher', 'n']\n",
    "df_pub_n = df_pub_n[df_pub_n.n > 5000]\n",
    "df = df_with_publisher.merge(df_pub_n, on=['publisher'])"
   ]
  },
  {
   "cell_type": "code",
   "execution_count": 11,
   "id": "110df415-8a41-4341-9395-e9283a2653f0",
   "metadata": {},
   "outputs": [],
   "source": [
    "X = df[['author_count', 'has_license', 'is_referenced_by_count',\n",
    "        'references_count', 'has_funder', 'page_count', 'has_abstract', 'title_word_length', 'inst_count', 'has_oa_url']].values\n",
    "y = df[['type']].values.ravel()"
   ]
  },
  {
   "cell_type": "code",
   "execution_count": 12,
   "id": "7a1d2e76-66ca-443c-a47f-6b8226d85894",
   "metadata": {},
   "outputs": [],
   "source": [
    "#X_train, X_test, y_train, y_test = train_test_split(X, y, stratify=y, test_size=0.25, random_state=42)\n",
    "\n",
    "X_train, X_temp, y_train, y_temp = train_test_split(\n",
    "    X, y, test_size=0.2, stratify=y, random_state=42)\n",
    "X_val, X_test, y_val, y_test = train_test_split(\n",
    "    X_temp, y_temp, test_size=0.5, stratify=y_temp, random_state=42)"
   ]
  },
  {
   "cell_type": "code",
   "execution_count": 13,
   "id": "8e1aa36b-8d5d-4d03-9dd7-5b17552026aa",
   "metadata": {},
   "outputs": [
    {
     "name": "stdout",
     "output_type": "stream",
     "text": [
      "                     precision    recall  f1-score   support\n",
      "\n",
      "editorial_discourse     0.3219    0.9215    0.4771     67883\n",
      " research_discourse     0.9926    0.8447    0.9127    848479\n",
      "\n",
      "           accuracy                         0.8504    916362\n",
      "          macro avg     0.6572    0.8831    0.6949    916362\n",
      "       weighted avg     0.9429    0.8504    0.8804    916362\n",
      "\n"
     ]
    }
   ],
   "source": [
    "classifier = LogisticRegression(max_iter=2000, \n",
    "                                class_weight='balanced', \n",
    "                                random_state=42, \n",
    "                                n_jobs=-1)\n",
    "classifier.fit(X_train, y_train)\n",
    " \n",
    "y_pred = classifier.predict(X_val)\n",
    "\n",
    "print(classification_report(y_val, \n",
    "                            y_pred, \n",
    "                            zero_division=1,\n",
    "                            digits=4,\n",
    "                            target_names=['editorial_discourse', 'research_discourse']))"
   ]
  },
  {
   "cell_type": "code",
   "execution_count": 14,
   "id": "fa1b7f4e-1181-4fa8-bf44-0732a7b1aa93",
   "metadata": {},
   "outputs": [
    {
     "name": "stdout",
     "output_type": "stream",
     "text": [
      "                     precision    recall  f1-score   support\n",
      "\n",
      "editorial_discourse     0.3209    0.9193    0.4757     67884\n",
      " research_discourse     0.9924    0.8443    0.9124    848478\n",
      "\n",
      "           accuracy                         0.8499    916362\n",
      "          macro avg     0.6566    0.8818    0.6941    916362\n",
      "       weighted avg     0.9427    0.8499    0.8801    916362\n",
      "\n"
     ]
    }
   ],
   "source": [
    "y_pred = classifier.predict(X_test)\n",
    "\n",
    "print(classification_report(y_test, \n",
    "                            y_pred, \n",
    "                            zero_division=1,\n",
    "                            digits=4,\n",
    "                            target_names=['editorial_discourse', 'research_discourse']))"
   ]
  },
  {
   "cell_type": "code",
   "execution_count": 15,
   "id": "b689aa8f-f4a2-4ad0-b2fb-af60c4a6ae37",
   "metadata": {},
   "outputs": [
    {
     "name": "stdout",
     "output_type": "stream",
     "text": [
      "                     precision    recall  f1-score   support\n",
      "\n",
      "editorial_discourse     0.5995    0.7059    0.6483     67883\n",
      " research_discourse     0.9761    0.9623    0.9692    848479\n",
      "\n",
      "           accuracy                         0.9433    916362\n",
      "          macro avg     0.7878    0.8341    0.8087    916362\n",
      "       weighted avg     0.9482    0.9433    0.9454    916362\n",
      "\n"
     ]
    }
   ],
   "source": [
    "clf = RandomForestClassifier(criterion='gini', \n",
    "                             max_depth=None, \n",
    "                             max_features='sqrt', \n",
    "                             class_weight='balanced', \n",
    "                             n_estimators=200, \n",
    "                             n_jobs=-1, \n",
    "                             random_state=42)\n",
    "clf.fit(X_train, y_train)\n",
    " \n",
    "y_pred = clf.predict(X_val)\n",
    "\n",
    "print(classification_report(y_val, \n",
    "                            y_pred, \n",
    "                            zero_division=1, \n",
    "                            digits=4,\n",
    "                            target_names=['editorial_discourse', 'research_discourse']))"
   ]
  },
  {
   "cell_type": "code",
   "execution_count": 16,
   "id": "55f3d923-c51a-4530-832f-96ce8ccbd5c0",
   "metadata": {},
   "outputs": [
    {
     "name": "stdout",
     "output_type": "stream",
     "text": [
      "                     precision    recall  f1-score   support\n",
      "\n",
      "editorial_discourse     0.5967    0.7062    0.6469     67884\n",
      " research_discourse     0.9761    0.9618    0.9689    848478\n",
      "\n",
      "           accuracy                         0.9429    916362\n",
      "          macro avg     0.7864    0.8340    0.8079    916362\n",
      "       weighted avg     0.9480    0.9429    0.9451    916362\n",
      "\n"
     ]
    }
   ],
   "source": [
    "y_pred = clf.predict(X_test)\n",
    "\n",
    "print(classification_report(y_test, \n",
    "                            y_pred, \n",
    "                            zero_division=1,\n",
    "                            digits=4,\n",
    "                            target_names=['editorial_discourse', 'research_discourse']))"
   ]
  },
  {
   "cell_type": "code",
   "execution_count": 17,
   "id": "e81b17f9-94ba-4327-96e0-5c3acb0d65d9",
   "metadata": {},
   "outputs": [
    {
     "name": "stdout",
     "output_type": "stream",
     "text": [
      "                     precision    recall  f1-score   support\n",
      "\n",
      "editorial_discourse     0.6580    0.6244    0.6408     67883\n",
      " research_discourse     0.9701    0.9740    0.9721    848479\n",
      "\n",
      "           accuracy                         0.9481    916362\n",
      "          macro avg     0.8140    0.7992    0.8064    916362\n",
      "       weighted avg     0.9470    0.9481    0.9475    916362\n",
      "\n"
     ]
    }
   ],
   "source": [
    "knn = KNeighborsClassifier(n_neighbors=50, \n",
    "                           weights='uniform', \n",
    "                           algorithm='auto',\n",
    "                           leaf_size=30, \n",
    "                           p=1, \n",
    "                           n_jobs=-1)\n",
    "knn.fit(X_train, y_train)\n",
    "\n",
    "y_pred = knn.predict(X_val)\n",
    "\n",
    "print(classification_report(y_val, \n",
    "                            y_pred, \n",
    "                            zero_division=1,\n",
    "                            digits=4,\n",
    "                            target_names=['editorial_discourse', 'research_discourse']))"
   ]
  },
  {
   "cell_type": "code",
   "execution_count": 18,
   "id": "a1c94891-8fe9-4328-bbf0-8d3a55b69031",
   "metadata": {},
   "outputs": [
    {
     "name": "stdout",
     "output_type": "stream",
     "text": [
      "                     precision    recall  f1-score   support\n",
      "\n",
      "editorial_discourse     0.6546    0.6228    0.6383     67884\n",
      " research_discourse     0.9699    0.9737    0.9718    848478\n",
      "\n",
      "           accuracy                         0.9477    916362\n",
      "          macro avg     0.8123    0.7983    0.8051    916362\n",
      "       weighted avg     0.9466    0.9477    0.9471    916362\n",
      "\n"
     ]
    }
   ],
   "source": [
    "y_pred = knn.predict(X_test)\n",
    "\n",
    "print(classification_report(y_test, \n",
    "                            y_pred, \n",
    "                            zero_division=1,\n",
    "                            digits=4,\n",
    "                            target_names=['editorial_discourse', 'research_discourse']))"
   ]
  },
  {
   "cell_type": "code",
   "execution_count": 19,
   "id": "a91129d3-25b3-480b-bdc0-7d0e7766824b",
   "metadata": {},
   "outputs": [
    {
     "name": "stdout",
     "output_type": "stream",
     "text": [
      "                     precision    recall  f1-score   support\n",
      "\n",
      "editorial_discourse     0.5902    0.4082    0.4826     67883\n",
      " research_discourse     0.9538    0.9773    0.9654    848479\n",
      "\n",
      "           accuracy                         0.9352    916362\n",
      "          macro avg     0.7720    0.6928    0.7240    916362\n",
      "       weighted avg     0.9269    0.9352    0.9297    916362\n",
      "\n"
     ]
    }
   ],
   "source": [
    "abc = AdaBoostClassifier(n_estimators=50,\n",
    "                         algorithm='SAMME',\n",
    "                         learning_rate=1,\n",
    "                         random_state=42)\n",
    "\n",
    "abc.fit(X_train, y_train)\n",
    "\n",
    "y_pred = abc.predict(X_val)\n",
    "\n",
    "print(classification_report(y_val, \n",
    "                            y_pred, \n",
    "                            zero_division=1, \n",
    "                            digits=4,\n",
    "                            target_names=['editorial_discourse', 'research_discourse']))"
   ]
  },
  {
   "cell_type": "code",
   "execution_count": 20,
   "id": "19693e8b-dc33-42fb-91a2-66ba5a1cd95d",
   "metadata": {},
   "outputs": [
    {
     "name": "stdout",
     "output_type": "stream",
     "text": [
      "                     precision    recall  f1-score   support\n",
      "\n",
      "editorial_discourse     0.5847    0.4065    0.4796     67884\n",
      " research_discourse     0.9536    0.9769    0.9651    848478\n",
      "\n",
      "           accuracy                         0.9346    916362\n",
      "          macro avg     0.7692    0.6917    0.7224    916362\n",
      "       weighted avg     0.9263    0.9346    0.9292    916362\n",
      "\n"
     ]
    }
   ],
   "source": [
    "y_pred = abc.predict(X_test)\n",
    "\n",
    "print(classification_report(y_test, \n",
    "                            y_pred, \n",
    "                            zero_division=1,\n",
    "                            digits=4,\n",
    "                            target_names=['editorial_discourse', 'research_discourse']))"
   ]
  },
  {
   "cell_type": "code",
   "execution_count": 21,
   "id": "c9d38e70-83bd-40a9-b713-11616d67ee79",
   "metadata": {},
   "outputs": [
    {
     "name": "stdout",
     "output_type": "stream",
     "text": [
      "                     precision    recall  f1-score   support\n",
      "\n",
      "editorial_discourse     0.0744    0.5021    0.1295     67883\n",
      " research_discourse     0.9262    0.4999    0.6493    848479\n",
      "\n",
      "           accuracy                         0.5000    916362\n",
      "          macro avg     0.5003    0.5010    0.3894    916362\n",
      "       weighted avg     0.8631    0.5000    0.6108    916362\n",
      "\n"
     ]
    }
   ],
   "source": [
    "dummy_clf = DummyClassifier(strategy='uniform',\n",
    "                            random_state=42)\n",
    "\n",
    "dummy_clf.fit(X_train, y_train)\n",
    "\n",
    "y_pred = dummy_clf.predict(X_val)\n",
    "\n",
    "print(classification_report(y_val, \n",
    "                            y_pred, \n",
    "                            zero_division=1, \n",
    "                            digits=4,\n",
    "                            target_names=['editorial_discourse', 'research_discourse']))"
   ]
  },
  {
   "cell_type": "code",
   "execution_count": 22,
   "id": "899dcd54-ab56-4ed8-9a53-2797b53e6864",
   "metadata": {},
   "outputs": [
    {
     "name": "stdout",
     "output_type": "stream",
     "text": [
      "                     precision    recall  f1-score   support\n",
      "\n",
      "editorial_discourse     0.0740    0.4998    0.1289     67884\n",
      " research_discourse     0.9258    0.4997    0.6491    848478\n",
      "\n",
      "           accuracy                         0.4997    916362\n",
      "          macro avg     0.4999    0.4997    0.3890    916362\n",
      "       weighted avg     0.8627    0.4997    0.6105    916362\n",
      "\n"
     ]
    }
   ],
   "source": [
    "y_pred = dummy_clf.predict(X_test)\n",
    "\n",
    "print(classification_report(y_test, \n",
    "                            y_pred, \n",
    "                            zero_division=1,\n",
    "                            digits=4,\n",
    "                            target_names=['editorial_discourse', 'research_discourse']))"
   ]
  },
  {
   "cell_type": "code",
   "execution_count": null,
   "id": "437d5e0f-4e00-4d71-85d6-9e45d155d8ce",
   "metadata": {},
   "outputs": [],
   "source": []
  }
 ],
 "metadata": {
  "kernelspec": {
   "display_name": "Python 3 (ipykernel)",
   "language": "python",
   "name": "python3"
  },
  "language_info": {
   "codemirror_mode": {
    "name": "ipython",
    "version": 3
   },
   "file_extension": ".py",
   "mimetype": "text/x-python",
   "name": "python",
   "nbconvert_exporter": "python",
   "pygments_lexer": "ipython3",
   "version": "3.11.10"
  }
 },
 "nbformat": 4,
 "nbformat_minor": 5
}
