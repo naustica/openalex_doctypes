{
 "cells": [
  {
   "cell_type": "code",
   "execution_count": 50,
   "id": "3c4660ef-3e32-482c-9251-33f966a37bae",
   "metadata": {},
   "outputs": [],
   "source": [
    "import os\n",
    "import pandas as pd\n",
    "import numpy as np\n",
    "import re\n",
    "from sklearn.model_selection import GridSearchCV, cross_val_score, KFold, train_test_split\n",
    "from sklearn.linear_model import LogisticRegression\n",
    "from sklearn.metrics import (classification_report, \n",
    "                             confusion_matrix, \n",
    "                             ConfusionMatrixDisplay, roc_curve, auc, PrecisionRecallDisplay, RocCurveDisplay, mean_squared_error)\n",
    "from sklearn.dummy import DummyClassifier\n",
    "from sklearn.ensemble import RandomForestClassifier\n",
    "from sklearn.neighbors import KNeighborsClassifier\n",
    "from sklearn.ensemble import AdaBoostClassifier"
   ]
  },
  {
   "cell_type": "code",
   "execution_count": 2,
   "id": "f644b6ab-3699-49bf-93a4-82980412a0da",
   "metadata": {},
   "outputs": [],
   "source": [
    "df = pd.read_csv('./../../datasets/oal_doc_dataset_extended.csv', \n",
    "                 names=['doi', 'pm_grouptype', 'type', 'abstract', 'title', 'page', 'author_count',\n",
    "                          'has_license', 'is_referenced_by_count',\n",
    "                          'references_count', 'has_funder', 'country_count', 'inst_count', 'has_oa_url'],\n",
    "                 dtype={'doi': str,\n",
    "                        'pm_grouptype': str,\n",
    "                        'type': str,\n",
    "                        'abstract': str,\n",
    "                        'title': str,\n",
    "                        'page': str,\n",
    "                        'author_count': int,\n",
    "                        'has_license': int,\n",
    "                        'is_referenced_by_count': int,\n",
    "                        'references_count': int,\n",
    "                        'has_funder': int,\n",
    "                        'country_count': int,\n",
    "                        'inst_count': int,\n",
    "                        'has_oa_url': int\n",
    "                 }, sep=',', quotechar='\"', header=0)"
   ]
  },
  {
   "cell_type": "code",
   "execution_count": 3,
   "id": "d208e57d-f25b-493f-8d45-c690cb36ee2d",
   "metadata": {},
   "outputs": [],
   "source": [
    "def page_counter(page_str):\n",
    "    page_int = 1\n",
    "    if '-' in str(page_str):\n",
    "        try:\n",
    "            page_str = re.sub(r'(\\.e)[\\d]*', '', page_str)\n",
    "            page_str = re.sub(r'(\\.)[\\d]*', '', page_str)\n",
    "            page_str = re.sub(r'(?<=\\d)(e)(\\d)*', '', page_str)\n",
    "            page_str = re.sub(r'[^\\d-]', '', page_str)\n",
    "            page_int = int(abs(eval(page_str)))\n",
    "            page_int += 1\n",
    "        except:\n",
    "            pass\n",
    "        \n",
    "    return page_int"
   ]
  },
  {
   "cell_type": "code",
   "execution_count": 4,
   "id": "84b2ed98-5db2-436e-a5e5-5e82c483b07c",
   "metadata": {},
   "outputs": [],
   "source": [
    "df['page_count'] = df.page.apply(page_counter)\n",
    "df['page_count'] = df['page_count'].astype(int)"
   ]
  },
  {
   "cell_type": "code",
   "execution_count": 5,
   "id": "0b5cad21-c268-4b7d-a680-61b6210f34ee",
   "metadata": {},
   "outputs": [],
   "source": [
    "df['title_word_length'] = df['title'].str.split().str.len()"
   ]
  },
  {
   "cell_type": "code",
   "execution_count": 6,
   "id": "3934abe4-5532-451d-95e3-e0aea4c251e8",
   "metadata": {},
   "outputs": [],
   "source": [
    "def has_abstract(abstract_str):\n",
    "    if pd.isna(abstract_str):\n",
    "        return 0\n",
    "    else:\n",
    "        return 1"
   ]
  },
  {
   "cell_type": "code",
   "execution_count": 7,
   "id": "431ae2a9-3623-478e-83ce-1caccf6e9045",
   "metadata": {},
   "outputs": [],
   "source": [
    "df['has_abstract'] = df.abstract.apply(has_abstract)\n",
    "df['has_abstract'] = df['has_abstract'].astype(int)"
   ]
  },
  {
   "cell_type": "code",
   "execution_count": 8,
   "id": "6ca40132-8b3b-475e-a112-24c2a9555916",
   "metadata": {},
   "outputs": [],
   "source": [
    "df['title_word_length'] = df['title_word_length'].fillna(0)"
   ]
  },
  {
   "cell_type": "code",
   "execution_count": 9,
   "id": "7215b1c3-593d-4dfa-a8ec-612d423d3770",
   "metadata": {},
   "outputs": [],
   "source": [
    "df = df[df['type'] != 'not assigned']\n",
    "df['type'] = df['type'].replace(to_replace='research_discourse', value='1')\n",
    "df['type'] = df['type'].replace(to_replace='editorial_discourse', value='0')\n",
    "df['type'] = df['type'].astype(int)\n",
    "df = df.reset_index(drop=True)"
   ]
  },
  {
   "cell_type": "code",
   "execution_count": 10,
   "id": "110df415-8a41-4341-9395-e9283a2653f0",
   "metadata": {},
   "outputs": [],
   "source": [
    "X = df[['author_count', 'has_license', 'is_referenced_by_count',\n",
    "        'references_count', 'has_funder', 'page_count', 'has_abstract', 'title_word_length', 'inst_count', 'has_oa_url']].values\n",
    "y = df[['type']].values.ravel()"
   ]
  },
  {
   "cell_type": "code",
   "execution_count": 34,
   "id": "7a1d2e76-66ca-443c-a47f-6b8226d85894",
   "metadata": {},
   "outputs": [],
   "source": [
    "#X_train, X_test, y_train, y_test = train_test_split(X, y, stratify=y, test_size=0.25, random_state=42)\n",
    "\n",
    "X_train, X_temp, y_train, y_temp = train_test_split(\n",
    "    X, y, test_size=0.2, stratify=y, random_state=42)\n",
    "X_val, X_test, y_val, y_test = train_test_split(\n",
    "    X_temp, y_temp, test_size=0.5, stratify=y_temp, random_state=42)"
   ]
  },
  {
   "cell_type": "code",
   "execution_count": 36,
   "id": "8e1aa36b-8d5d-4d03-9dd7-5b17552026aa",
   "metadata": {},
   "outputs": [
    {
     "name": "stdout",
     "output_type": "stream",
     "text": [
      "                     precision    recall  f1-score   support\n",
      "\n",
      "editorial_discourse     0.3085    0.9163    0.4616     70846\n",
      " research_discourse     0.9920    0.8353    0.9069    883468\n",
      "\n",
      "           accuracy                         0.8413    954314\n",
      "          macro avg     0.6503    0.8758    0.6843    954314\n",
      "       weighted avg     0.9413    0.8413    0.8739    954314\n",
      "\n"
     ]
    }
   ],
   "source": [
    "classifier = LogisticRegression(max_iter=2000, \n",
    "                                class_weight='balanced', \n",
    "                                random_state=42, \n",
    "                                n_jobs=-1)\n",
    "classifier.fit(X_train, y_train)\n",
    " \n",
    "y_pred = classifier.predict(X_val)\n",
    "\n",
    "print(classification_report(y_val, \n",
    "                            y_pred, \n",
    "                            zero_division=1,\n",
    "                            digits=4,\n",
    "                            target_names=['editorial_discourse', 'research_discourse']))"
   ]
  },
  {
   "cell_type": "code",
   "execution_count": 37,
   "id": "fa1b7f4e-1181-4fa8-bf44-0732a7b1aa93",
   "metadata": {},
   "outputs": [
    {
     "name": "stdout",
     "output_type": "stream",
     "text": [
      "                     precision    recall  f1-score   support\n",
      "\n",
      "editorial_discourse     0.3080    0.9182    0.4613     70846\n",
      " research_discourse     0.9922    0.8346    0.9066    883468\n",
      "\n",
      "           accuracy                         0.8408    954314\n",
      "          macro avg     0.6501    0.8764    0.6840    954314\n",
      "       weighted avg     0.9414    0.8408    0.8736    954314\n",
      "\n"
     ]
    }
   ],
   "source": [
    "y_pred = classifier.predict(X_test)\n",
    "\n",
    "print(classification_report(y_test, \n",
    "                            y_pred, \n",
    "                            zero_division=1,\n",
    "                            digits=4,\n",
    "                            target_names=['editorial_discourse', 'research_discourse']))"
   ]
  },
  {
   "cell_type": "code",
   "execution_count": 38,
   "id": "b689aa8f-f4a2-4ad0-b2fb-af60c4a6ae37",
   "metadata": {},
   "outputs": [
    {
     "name": "stdout",
     "output_type": "stream",
     "text": [
      "                     precision    recall  f1-score   support\n",
      "\n",
      "editorial_discourse     0.5814    0.7017    0.6359     70846\n",
      " research_discourse     0.9757    0.9595    0.9675    883468\n",
      "\n",
      "           accuracy                         0.9404    954314\n",
      "          macro avg     0.7786    0.8306    0.8017    954314\n",
      "       weighted avg     0.9464    0.9404    0.9429    954314\n",
      "\n"
     ]
    }
   ],
   "source": [
    "clf = RandomForestClassifier(criterion='gini', \n",
    "                             max_depth=None, \n",
    "                             max_features='sqrt', \n",
    "                             class_weight='balanced', \n",
    "                             n_estimators=200, \n",
    "                             n_jobs=-1, \n",
    "                             random_state=42)\n",
    "clf.fit(X_train, y_train)\n",
    " \n",
    "y_pred = clf.predict(X_val)\n",
    "\n",
    "print(classification_report(y_val, \n",
    "                            y_pred, \n",
    "                            zero_division=1, \n",
    "                            digits=4,\n",
    "                            target_names=['editorial_discourse', 'research_discourse']))"
   ]
  },
  {
   "cell_type": "code",
   "execution_count": 39,
   "id": "55f3d923-c51a-4530-832f-96ce8ccbd5c0",
   "metadata": {},
   "outputs": [
    {
     "name": "stdout",
     "output_type": "stream",
     "text": [
      "                     precision    recall  f1-score   support\n",
      "\n",
      "editorial_discourse     0.5811    0.7057    0.6374     70846\n",
      " research_discourse     0.9760    0.9592    0.9675    883468\n",
      "\n",
      "           accuracy                         0.9404    954314\n",
      "          macro avg     0.7786    0.8324    0.8024    954314\n",
      "       weighted avg     0.9467    0.9404    0.9430    954314\n",
      "\n"
     ]
    }
   ],
   "source": [
    "y_pred = clf.predict(X_test)\n",
    "\n",
    "print(classification_report(y_test, \n",
    "                            y_pred, \n",
    "                            zero_division=1,\n",
    "                            digits=4,\n",
    "                            target_names=['editorial_discourse', 'research_discourse']))"
   ]
  },
  {
   "cell_type": "code",
   "execution_count": 40,
   "id": "e81b17f9-94ba-4327-96e0-5c3acb0d65d9",
   "metadata": {},
   "outputs": [
    {
     "name": "stdout",
     "output_type": "stream",
     "text": [
      "                     precision    recall  f1-score   support\n",
      "\n",
      "editorial_discourse     0.6515    0.6037    0.6267     70846\n",
      " research_discourse     0.9684    0.9741    0.9712    883468\n",
      "\n",
      "           accuracy                         0.9466    954314\n",
      "          macro avg     0.8100    0.7889    0.7990    954314\n",
      "       weighted avg     0.9449    0.9466    0.9457    954314\n",
      "\n"
     ]
    }
   ],
   "source": [
    "knn = KNeighborsClassifier(n_neighbors=50, \n",
    "                           weights='uniform', \n",
    "                           algorithm='auto',\n",
    "                           leaf_size=30, \n",
    "                           p=1, \n",
    "                           n_jobs=-1)\n",
    "knn.fit(X_train, y_train)\n",
    "\n",
    "y_pred = knn.predict(X_val)\n",
    "\n",
    "print(classification_report(y_val, \n",
    "                            y_pred, \n",
    "                            zero_division=1,\n",
    "                            digits=4,\n",
    "                            target_names=['editorial_discourse', 'research_discourse']))"
   ]
  },
  {
   "cell_type": "code",
   "execution_count": 48,
   "id": "a1c94891-8fe9-4328-bbf0-8d3a55b69031",
   "metadata": {},
   "outputs": [
    {
     "name": "stdout",
     "output_type": "stream",
     "text": [
      "                     precision    recall  f1-score   support\n",
      "\n",
      "editorial_discourse     0.6509    0.6036    0.6263     70846\n",
      " research_discourse     0.9684    0.9740    0.9712    883468\n",
      "\n",
      "           accuracy                         0.9465    954314\n",
      "          macro avg     0.8096    0.7888    0.7988    954314\n",
      "       weighted avg     0.9448    0.9465    0.9456    954314\n",
      "\n"
     ]
    }
   ],
   "source": [
    "y_pred = knn.predict(X_test)\n",
    "\n",
    "print(classification_report(y_test, \n",
    "                            y_pred, \n",
    "                            zero_division=1,\n",
    "                            digits=4,\n",
    "                            target_names=['editorial_discourse', 'research_discourse']))"
   ]
  },
  {
   "cell_type": "code",
   "execution_count": 42,
   "id": "a91129d3-25b3-480b-bdc0-7d0e7766824b",
   "metadata": {},
   "outputs": [
    {
     "name": "stdout",
     "output_type": "stream",
     "text": [
      "                     precision    recall  f1-score   support\n",
      "\n",
      "editorial_discourse     0.5705    0.4143    0.4800     70846\n",
      " research_discourse     0.9540    0.9750    0.9644    883468\n",
      "\n",
      "           accuracy                         0.9334    954314\n",
      "          macro avg     0.7623    0.6946    0.7222    954314\n",
      "       weighted avg     0.9256    0.9334    0.9284    954314\n",
      "\n"
     ]
    }
   ],
   "source": [
    "abc = AdaBoostClassifier(n_estimators=50,\n",
    "                         algorithm='SAMME',\n",
    "                         learning_rate=1,\n",
    "                         random_state=42)\n",
    "\n",
    "abc.fit(X_train, y_train)\n",
    "\n",
    "y_pred = abc.predict(X_val)\n",
    "\n",
    "print(classification_report(y_val, \n",
    "                            y_pred, \n",
    "                            zero_division=1, \n",
    "                            digits=4,\n",
    "                            target_names=['editorial_discourse', 'research_discourse']))"
   ]
  },
  {
   "cell_type": "code",
   "execution_count": 46,
   "id": "19693e8b-dc33-42fb-91a2-66ba5a1cd95d",
   "metadata": {},
   "outputs": [
    {
     "name": "stdout",
     "output_type": "stream",
     "text": [
      "                     precision    recall  f1-score   support\n",
      "\n",
      "editorial_discourse     0.5726    0.4143    0.4807     70846\n",
      " research_discourse     0.9540    0.9752    0.9645    883468\n",
      "\n",
      "           accuracy                         0.9336    954314\n",
      "          macro avg     0.7633    0.6947    0.7226    954314\n",
      "       weighted avg     0.9257    0.9336    0.9286    954314\n",
      "\n"
     ]
    }
   ],
   "source": [
    "y_pred = abc.predict(X_test)\n",
    "\n",
    "print(classification_report(y_test, \n",
    "                            y_pred, \n",
    "                            zero_division=1,\n",
    "                            digits=4,\n",
    "                            target_names=['editorial_discourse', 'research_discourse']))"
   ]
  },
  {
   "cell_type": "code",
   "execution_count": 44,
   "id": "c9d38e70-83bd-40a9-b713-11616d67ee79",
   "metadata": {},
   "outputs": [
    {
     "name": "stdout",
     "output_type": "stream",
     "text": [
      "                     precision    recall  f1-score   support\n",
      "\n",
      "editorial_discourse     0.0746    0.5023    0.1298     70846\n",
      " research_discourse     0.9261    0.5000    0.6494    883468\n",
      "\n",
      "           accuracy                         0.5001    954314\n",
      "          macro avg     0.5003    0.5011    0.3896    954314\n",
      "       weighted avg     0.8629    0.5001    0.6108    954314\n",
      "\n"
     ]
    }
   ],
   "source": [
    "dummy_clf = DummyClassifier(strategy='uniform',\n",
    "                            random_state=42)\n",
    "\n",
    "dummy_clf.fit(X_train, y_train)\n",
    "\n",
    "y_pred = dummy_clf.predict(X_val)\n",
    "\n",
    "print(classification_report(y_val, \n",
    "                            y_pred, \n",
    "                            zero_division=1, \n",
    "                            digits=4,\n",
    "                            target_names=['editorial_discourse', 'research_discourse']))"
   ]
  },
  {
   "cell_type": "code",
   "execution_count": 47,
   "id": "899dcd54-ab56-4ed8-9a53-2797b53e6864",
   "metadata": {},
   "outputs": [
    {
     "name": "stdout",
     "output_type": "stream",
     "text": [
      "                     precision    recall  f1-score   support\n",
      "\n",
      "editorial_discourse     0.0740    0.4984    0.1288     70846\n",
      " research_discourse     0.9255    0.4997    0.6490    883468\n",
      "\n",
      "           accuracy                         0.4996    954314\n",
      "          macro avg     0.4997    0.4990    0.3889    954314\n",
      "       weighted avg     0.8623    0.4996    0.6103    954314\n",
      "\n"
     ]
    }
   ],
   "source": [
    "y_pred = dummy_clf.predict(X_test)\n",
    "\n",
    "print(classification_report(y_test, \n",
    "                            y_pred, \n",
    "                            zero_division=1,\n",
    "                            digits=4,\n",
    "                            target_names=['editorial_discourse', 'research_discourse']))"
   ]
  },
  {
   "cell_type": "code",
   "execution_count": null,
   "id": "c63ef6b9-affd-4be6-8abd-8bc2b52ec7fa",
   "metadata": {},
   "outputs": [],
   "source": []
  }
 ],
 "metadata": {
  "kernelspec": {
   "display_name": "Python 3 (ipykernel)",
   "language": "python",
   "name": "python3"
  },
  "language_info": {
   "codemirror_mode": {
    "name": "ipython",
    "version": 3
   },
   "file_extension": ".py",
   "mimetype": "text/x-python",
   "name": "python",
   "nbconvert_exporter": "python",
   "pygments_lexer": "ipython3",
   "version": "3.11.10"
  }
 },
 "nbformat": 4,
 "nbformat_minor": 5
}
